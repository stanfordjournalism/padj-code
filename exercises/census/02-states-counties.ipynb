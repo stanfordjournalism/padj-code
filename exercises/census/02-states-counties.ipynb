{
 "cells": [
  {
   "cell_type": "markdown",
   "id": "a8f76f42-de33-47a3-85b7-6f8dfc1cd8db",
   "metadata": {},
   "source": [
    "# Data for multiple states and counties\n",
    "\n",
    "In our [first notebook](01-census-basics.ipynb), we reviewed the basics of working with the Census API and some important considerations related to margins of error. \n",
    "\n",
    "In this notebook, we'll review how to pull data for more than a single state or county. This can be quite handy when you're trying to get a sense of the big-picture nationally, or within a state or region.\n",
    "\n",
    "> Before proceeding, make sure you've obtained and stored a Census API key per [these instructions](README.md).\n"
   ]
  },
  {
   "cell_type": "code",
   "execution_count": 47,
   "id": "65ef3c89-188e-41aa-bc52-4a34c391ec33",
   "metadata": {},
   "outputs": [],
   "source": [
    "import altair as alt\n",
    "from census import Census\n",
    "import pandas as pd\n",
    "\n",
    "from census_api_key import KEY"
   ]
  },
  {
   "cell_type": "markdown",
   "id": "06cc8a19-d0a4-40ee-8921-38dd66db1167",
   "metadata": {},
   "source": [
    "## Start the Census client"
   ]
  },
  {
   "cell_type": "code",
   "execution_count": 48,
   "id": "7ac4d388-7910-4c91-a511-0701215d491d",
   "metadata": {},
   "outputs": [],
   "source": [
    "client = Census(KEY)"
   ]
  },
  {
   "cell_type": "markdown",
   "id": "8233423c-4cb0-4921-9345-7aefefc0ebab",
   "metadata": {},
   "source": [
    "## Downloading data\n",
    "\n",
    "So now let's define a few things to make it easier for us to query the API and download the relevant data:"
   ]
  },
  {
   "cell_type": "code",
   "execution_count": 49,
   "id": "63437b14-c132-4df6-a571-8c8a45a0b32c",
   "metadata": {},
   "outputs": [],
   "source": [
    "state_fips = '06' # California state FIPS code\n",
    "county_fips = '085' # FIPS code for Santa Clara County"
   ]
  },
  {
   "cell_type": "markdown",
   "id": "13b4840e-cee7-4fe0-a82d-2da371e44367",
   "metadata": {},
   "source": [
    "We also need to specify what fields we want to download from the table we've identified. I like to do this in a dictionary where the keys are the variable IDs and the values are human-readable names of the variables. I do this so I can easily see what these are in my code and to make renaming columns easier later on."
   ]
  },
  {
   "cell_type": "code",
   "execution_count": 50,
   "id": "2891a726-70e3-4e1e-aac1-4a7703e86bb9",
   "metadata": {},
   "outputs": [],
   "source": [
    "fields = {\n",
    "    'B19013_001E': 'median_hh_income',\n",
    "    'B19013_001M': 'margin_of_error',\n",
    "}\n",
    "# I also create a list of the variable IDs to give to the Census client\n",
    "field_codes = list(fields.keys())"
   ]
  },
  {
   "cell_type": "markdown",
   "id": "cbd3bfae-7fd6-430d-aa28-9b47f7132da2",
   "metadata": {},
   "source": [
    "## Downloading multiple geographic areas\n",
    "\n",
    "Often we don't want to look at a single county or state. We can easily download all states in the nation, or counties in a state using a property of the Python Census library - `Census.ALL`. This is exactly the same as using `'*'` which is traditionally viewed as a character to represent wildcards.\n",
    "\n",
    "### Download all states"
   ]
  },
  {
   "cell_type": "code",
   "execution_count": null,
   "id": "58493e0b-e4d4-420b-9f61-aa4bb0e6a896",
   "metadata": {},
   "outputs": [],
   "source": [
    "raw = client.acs5.state(field_codes, Census.ALL)\n",
    "len(raw)"
   ]
  },
  {
   "cell_type": "code",
   "execution_count": null,
   "id": "41d6b00e-096d-4bb7-8ad5-91bbe6c1c58a",
   "metadata": {},
   "outputs": [],
   "source": [
    "data = pd.DataFrame(raw).rename(columns=fields)\n",
    "data.head()"
   ]
  },
  {
   "cell_type": "markdown",
   "id": "347d803a-058f-44dc-bb6c-6e4ab50429f3",
   "metadata": {},
   "source": [
    "We don't have state names with this data, only FIPS codes. We can easily use the crosswalk the Census Bureau provides. The crosswalk is a pipe-delimited text file we can load directly into Pandas without downloading."
   ]
  },
  {
   "cell_type": "code",
   "execution_count": null,
   "id": "002cd084-386a-4ed6-8e92-05532bdc6932",
   "metadata": {},
   "outputs": [],
   "source": [
    "state_fips_url = 'https://www2.census.gov/geo/docs/reference/codes2020/national_state2020.txt'\n",
    "# Notice we specified `|` for the delimiter\n",
    "# We are also going to set the data type of all columns as a string \n",
    "# to keep leading zeroes in identifiers\n",
    "state_codes = pd.read_csv(state_fips_url, delimiter='|', dtype=str) \n",
    "state_codes.head()"
   ]
  },
  {
   "cell_type": "markdown",
   "id": "69b0da89-d383-49ab-b6b9-52c9c99527ba",
   "metadata": {},
   "source": [
    "Let's merge these together."
   ]
  },
  {
   "cell_type": "code",
   "execution_count": null,
   "id": "18239024-9878-442b-acf6-be9087e8522d",
   "metadata": {},
   "outputs": [],
   "source": [
    "merged = data.merge(\n",
    "    state_codes,\n",
    "    how='left',\n",
    "    left_on='state',\n",
    "    right_on='STATEFP'\n",
    ")\n",
    "merged.head()"
   ]
  },
  {
   "cell_type": "markdown",
   "id": "127af45b-32f8-4b0d-9c59-cf1e12fca5a1",
   "metadata": {},
   "source": [
    "Great we can now write out our results to a file for later use."
   ]
  },
  {
   "cell_type": "code",
   "execution_count": 55,
   "id": "446756dc-b0e6-4790-b77b-a4d929a259c5",
   "metadata": {},
   "outputs": [],
   "source": [
    "merged.to_csv('./median_hh_income_states.csv', index=False)"
   ]
  },
  {
   "cell_type": "markdown",
   "id": "d0ab40ae-606a-4196-8041-a9e2d0bd2c13",
   "metadata": {},
   "source": [
    "### Download multiple counties\n",
    "\n",
    "The process is very similar to above, only we use the client's `state_county` method to get county-level data.\n",
    "\n",
    "#### For a single state"
   ]
  },
  {
   "cell_type": "code",
   "execution_count": null,
   "id": "e2a402fc-5403-4d83-b697-50641b4af4c5",
   "metadata": {},
   "outputs": [],
   "source": [
    "raw = client.acs5.state_county(field_codes, state_fips, Census.ALL)\n",
    "len(raw)"
   ]
  },
  {
   "cell_type": "markdown",
   "id": "5253862f-8fdb-4f63-902e-c19a07b91580",
   "metadata": {},
   "source": [
    "#### For all states"
   ]
  },
  {
   "cell_type": "code",
   "execution_count": null,
   "id": "99cd074a-130f-4369-a682-6b9555f6db6f",
   "metadata": {},
   "outputs": [],
   "source": [
    "raw = client.acs5.state_county(field_codes, Census.ALL, Census.ALL)\n",
    "len(raw)"
   ]
  },
  {
   "cell_type": "code",
   "execution_count": null,
   "id": "285ed38e-ed49-4255-b38e-942470dd9549",
   "metadata": {},
   "outputs": [],
   "source": [
    "data = pd.DataFrame(raw).rename(columns=fields)\n",
    "data"
   ]
  },
  {
   "cell_type": "markdown",
   "id": "efdcb2de-a713-4a02-8b3f-86be9e32a1c2",
   "metadata": {},
   "source": [
    "#### Add county names\n",
    "\n",
    "We can also use FIPS codes to add county and state names. We will use a different dataset this time that includes county FIPS codes."
   ]
  },
  {
   "cell_type": "code",
   "execution_count": null,
   "id": "58b1c903-6012-4727-be05-65e61f64e638",
   "metadata": {},
   "outputs": [],
   "source": [
    "county_fips_url = 'https://www2.census.gov/geo/docs/reference/codes2020/national_county2020.txt'\n",
    "county_codes = pd.read_csv(county_fips_url, delimiter='|', dtype=str)\n",
    "county_codes"
   ]
  },
  {
   "cell_type": "markdown",
   "id": "71a555eb-0992-44d0-81c9-68a1d3cabf9f",
   "metadata": {},
   "source": [
    "County FIPS codes are unique within a state, but not nationally. So we need to include both state and county FIPS codes when joining the data."
   ]
  },
  {
   "cell_type": "code",
   "execution_count": null,
   "id": "72f274d9-6538-4be5-9235-88828a32e82c",
   "metadata": {},
   "outputs": [],
   "source": [
    "data['geoid'] = data['state'] + data['county']\n",
    "data.head()"
   ]
  },
  {
   "cell_type": "code",
   "execution_count": null,
   "id": "859c7ddb-14c7-4cfe-8982-81bd41cd0df2",
   "metadata": {},
   "outputs": [],
   "source": [
    "county_codes['geoid'] = county_codes['STATEFP'] + county_codes['COUNTYFP']\n",
    "county_codes"
   ]
  },
  {
   "cell_type": "markdown",
   "id": "0a60a81c-179f-4014-93a7-17b2d696630f",
   "metadata": {},
   "source": [
    "Now we can join the two dataframes as we did above using the `geoid` columns we just created."
   ]
  },
  {
   "cell_type": "code",
   "execution_count": null,
   "id": "8ae50f9e-171d-4ee6-ad17-1a1a48ee5b63",
   "metadata": {},
   "outputs": [],
   "source": [
    "merged = data.merge(\n",
    "    county_codes,\n",
    "    how='left',\n",
    "    on='geoid'\n",
    ")\n",
    "merged.head()"
   ]
  },
  {
   "cell_type": "markdown",
   "id": "6cc0744c-4a72-492f-aed3-53dc1e4ce0bd",
   "metadata": {},
   "source": [
    "And once again write out our data:"
   ]
  },
  {
   "cell_type": "code",
   "execution_count": 63,
   "id": "eafa3fbe-7c72-41a5-9405-0be6f858529c",
   "metadata": {},
   "outputs": [],
   "source": [
    "merged.to_csv('./median_hh_income_counties.csv', index=False)"
   ]
  }
 ],
 "metadata": {
  "kernelspec": {
   "display_name": ".venv",
   "language": "python",
   "name": "python3"
  },
  "language_info": {
   "codemirror_mode": {
    "name": "ipython",
    "version": 3
   },
   "file_extension": ".py",
   "mimetype": "text/x-python",
   "name": "python",
   "nbconvert_exporter": "python",
   "pygments_lexer": "ipython3",
   "version": "3.12.6"
  }
 },
 "nbformat": 4,
 "nbformat_minor": 5
}
