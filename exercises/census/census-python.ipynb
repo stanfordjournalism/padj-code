{
 "cells": [
  {
   "cell_type": "markdown",
   "id": "a8f76f42-de33-47a3-85b7-6f8dfc1cd8db",
   "metadata": {},
   "source": [
    "# Accessing Census data with Python\n",
    "\n",
    "This notebook walks you through the process of getting data using Datamade's [census library for Python](https://github.com/datamade/census). At the same time we will introduce you to the concept of uncertainty in sample data and how to work with it.\n",
    "\n",
    "## Getting started\n",
    "To get started:\n",
    "1. In the terminal, run `pipenv install` in the same directory as this noteboook to install the required libraries.\n",
    "2. You will need a Census API key. You can get one [here](https://api.census.gov/data/key_signup.html).\n",
    "3. Create a Python file in the same directory called **census_api_key.py**. In that file define a variable called `KEY`and assign your Census API key as the value: `KEY = '<your api key here>'`.\n",
    "4. Start the pipenv environment by running `pipenv shell` in the terminal.\n",
    "5. Once the shell is launched, run `jupyter lab` in the terminal to start Jupyter Lab.\n",
    "\n",
    "## Importing the tools we need to work with data\n",
    "First we import the libraries we are going to use to get data and analyze it. We are using three main libraries:\n",
    "- **[Pandas:](https://pandas.pydata.org/)** The toolkit we use to conduct data analysis\n",
    "- **[Census:](https://github.com/datamade/census)** This library makes it easier to access Census data through the API.\n",
    "- **[Altair:](https://altair-viz.github.io/)** This library is used to create data visualizations using data in Pandas.\n",
    "\n",
    "We also need to import the API key so we can use the Census API."
   ]
  },
  {
   "cell_type": "code",
   "execution_count": 1,
   "id": "65ef3c89-188e-41aa-bc52-4a34c391ec33",
   "metadata": {},
   "outputs": [],
   "source": [
    "import altair as alt\n",
    "from census import Census\n",
    "import pandas as pd\n",
    "\n",
    "from census_api_key import KEY"
   ]
  },
  {
   "cell_type": "markdown",
   "id": "06cc8a19-d0a4-40ee-8921-38dd66db1167",
   "metadata": {},
   "source": [
    "## Starting the Census client\n",
    "\n",
    "Next we need to initialize the client to download data. The client only needs one bit of information from you in order to work - your Census API key."
   ]
  },
  {
   "cell_type": "code",
   "execution_count": 2,
   "id": "7ac4d388-7910-4c91-a511-0701215d491d",
   "metadata": {},
   "outputs": [],
   "source": [
    "client = Census(KEY)"
   ]
  },
  {
   "cell_type": "markdown",
   "id": "d57dbbde-08f2-4196-a4eb-f95a7aed42cd",
   "metadata": {},
   "source": [
    "## Using the client to search for data\n",
    "\n",
    "The client has functionality built in to list all the tables associated with a given dataset. In this example, we want to look at the median household income in Santa Clara County using 1-year estimates from the American Community Survey.\n",
    "\n",
    "You can list all the tables using the following syntax:"
   ]
  },
  {
   "cell_type": "code",
   "execution_count": 3,
   "id": "6480500f-4642-410f-b2cc-f01f2e4781a5",
   "metadata": {},
   "outputs": [
    {
     "data": {
      "text/plain": [
       "1389"
      ]
     },
     "execution_count": 3,
     "metadata": {},
     "output_type": "execute_result"
    }
   ],
   "source": [
    "tables = client.acs1.tables()\n",
    "# show the number of tables\n",
    "len(tables)"
   ]
  },
  {
   "cell_type": "code",
   "execution_count": 4,
   "id": "d78d80f5-9907-4e2c-866b-3c6b8dc4743b",
   "metadata": {},
   "outputs": [
    {
     "data": {
      "text/plain": [
       "[{'name': 'B17015',\n",
       "  'description': 'POVERTY STATUS IN THE PAST 12 MONTHS OF FAMILIES BY FAMILY TYPE BY SOCIAL SECURITY INCOME BY SUPPLEMENTAL SECURITY INCOME (SSI) AND CASH PUBLIC ASSISTANCE INCOME',\n",
       "  'variables': 'http://api.census.gov/data/2021/acs/acs1/groups/B17015.json',\n",
       "  'universe ': 'Families'},\n",
       " {'name': 'B18104',\n",
       "  'description': 'SEX BY AGE BY COGNITIVE DIFFICULTY',\n",
       "  'variables': 'http://api.census.gov/data/2021/acs/acs1/groups/B18104.json',\n",
       "  'universe ': 'Civilian noninstitutionalized population 5 years and over'},\n",
       " {'name': 'B17016',\n",
       "  'description': 'POVERTY STATUS IN THE PAST 12 MONTHS OF FAMILIES BY FAMILY TYPE BY WORK EXPERIENCE OF HOUSEHOLDER AND SPOUSE',\n",
       "  'variables': 'http://api.census.gov/data/2021/acs/acs1/groups/B17016.json',\n",
       "  'universe ': 'Families'},\n",
       " {'name': 'B18105',\n",
       "  'description': 'SEX BY AGE BY AMBULATORY DIFFICULTY',\n",
       "  'variables': 'http://api.census.gov/data/2021/acs/acs1/groups/B18105.json',\n",
       "  'universe ': 'Civilian noninstitutionalized population 5 years and over'},\n",
       " {'name': 'B17017',\n",
       "  'description': 'POVERTY STATUS IN THE PAST 12 MONTHS BY HOUSEHOLD TYPE BY AGE OF HOUSEHOLDER',\n",
       "  'variables': 'http://api.census.gov/data/2021/acs/acs1/groups/B17017.json',\n",
       "  'universe ': 'Households'}]"
      ]
     },
     "execution_count": 4,
     "metadata": {},
     "output_type": "execute_result"
    }
   ],
   "source": [
    "# showing the first 5 tables\n",
    "tables[:5]"
   ]
  },
  {
   "cell_type": "markdown",
   "id": "2d654f96-f642-4e22-a844-eac5f344b674",
   "metadata": {},
   "source": [
    "The result is a list of tables, each one with it's own dictionary:\n",
    "- **name:** This is the table ID, an important bit of information needed to download data through the API.\n",
    "- **description:** A human-readable description of the table.\n",
    "- **variables:** A url pointing to the variable definitions for the table.\n",
    "- **universe:** The universe the ACS estimates are based on.\n",
    "\n",
    "We can use **name** to find our data easily. The first letter of the table ID describes the type of table.\n",
    "We oftenly use tables starting with the letter `B` - basic, detailed tables. Next we need to find the tables associated with income. The first two digits after the letter in the table ID identify the subject. For income those numbers are `19`. A full listing of subjects and their numbers can be found [here](https://www.census.gov/programs-surveys/acs/data/data-tables/table-ids-explained.html). A [spreadsheet listing all tables](https://www2.census.gov/programs-surveys/acs/tech_docs/table_shells/table_lists/2022_DataProductList.xlsx) is also available.\n",
    "\n",
    "For now let's find all tables related to income:"
   ]
  },
  {
   "cell_type": "code",
   "execution_count": 5,
   "id": "5891b039-5b96-479c-9523-1ecb2f9442ec",
   "metadata": {},
   "outputs": [
    {
     "data": {
      "text/plain": [
       "133"
      ]
     },
     "execution_count": 5,
     "metadata": {},
     "output_type": "execute_result"
    }
   ],
   "source": [
    "income_tables = []\n",
    "\n",
    "for table in client.acs1.tables():\n",
    "    if table['name'].startswith('B19'):\n",
    "        income_tables.append(table)\n",
    "\n",
    "len(income_tables)"
   ]
  },
  {
   "cell_type": "markdown",
   "id": "b3e56563-b08b-49d9-b769-aee87198d5a2",
   "metadata": {},
   "source": [
    "There are more than 100 tables related to income, still too many to list here. Let's refine our search a bit more, but let's print out some information instead of storing it in a list:"
   ]
  },
  {
   "cell_type": "code",
   "execution_count": 6,
   "id": "bdc039ea-1b55-40a7-b319-aea4e9c4bf8b",
   "metadata": {},
   "outputs": [
    {
     "name": "stdout",
     "output_type": "stream",
     "text": [
      "B19013H MEDIAN HOUSEHOLD INCOME IN THE PAST 12 MONTHS (IN 2021 INFLATION-ADJUSTED DOLLARS) (WHITE ALONE, NOT HISPANIC OR LATINO HOUSEHOLDER)\n",
      "B19013I MEDIAN HOUSEHOLD INCOME IN THE PAST 12 MONTHS (IN 2021 INFLATION-ADJUSTED DOLLARS) (HISPANIC OR LATINO HOUSEHOLDER)\n",
      "B19013B MEDIAN HOUSEHOLD INCOME IN THE PAST 12 MONTHS (IN 2021 INFLATION-ADJUSTED DOLLARS) (BLACK OR AFRICAN AMERICAN ALONE HOUSEHOLDER)\n",
      "B19013C MEDIAN HOUSEHOLD INCOME IN THE PAST 12 MONTHS (IN 2021 INFLATION-ADJUSTED DOLLARS) (AMERICAN INDIAN AND ALASKA NATIVE ALONE HOUSEHOLDER)\n",
      "B19013A MEDIAN HOUSEHOLD INCOME IN THE PAST 12 MONTHS (IN 2021 INFLATION-ADJUSTED DOLLARS) (WHITE ALONE HOUSEHOLDER)\n",
      "B19013F MEDIAN HOUSEHOLD INCOME IN THE PAST 12 MONTHS (IN 2021 INFLATION-ADJUSTED DOLLARS) (SOME OTHER RACE ALONE HOUSEHOLDER)\n",
      "B19013G MEDIAN HOUSEHOLD INCOME IN THE PAST 12 MONTHS (IN 2021 INFLATION-ADJUSTED DOLLARS) (TWO OR MORE RACES HOUSEHOLDER)\n",
      "B19013D MEDIAN HOUSEHOLD INCOME IN THE PAST 12 MONTHS (IN 2021 INFLATION-ADJUSTED DOLLARS) (ASIAN ALONE HOUSEHOLDER)\n",
      "B19013E MEDIAN HOUSEHOLD INCOME IN THE PAST 12 MONTHS (IN 2021 INFLATION-ADJUSTED DOLLARS) (NATIVE HAWAIIAN AND OTHER PACIFIC ISLANDER ALONE HOUSEHOLDER)\n",
      "B19019 MEDIAN HOUSEHOLD INCOME IN THE PAST 12 MONTHS (IN 2021 INFLATION-ADJUSTED DOLLARS) BY HOUSEHOLD SIZE\n",
      "B19013 MEDIAN HOUSEHOLD INCOME IN THE PAST 12 MONTHS (IN 2021 INFLATION-ADJUSTED DOLLARS)\n",
      "B19049 MEDIAN HOUSEHOLD INCOME IN THE PAST 12 MONTHS (IN 2021 INFLATION-ADJUSTED DOLLARS) BY AGE OF HOUSEHOLDER\n"
     ]
    }
   ],
   "source": [
    "for table in client.acs1.tables():\n",
    "    if table['name'].startswith('B19') and 'MEDIAN HOUSEHOLD' in table['description']:\n",
    "        print(table['name'], table['description'])"
   ]
  },
  {
   "cell_type": "markdown",
   "id": "9413fd31-253f-4337-8de9-053db3ed5e7a",
   "metadata": {},
   "source": [
    "Much better. It may be hard to see, but the table we want is in there with a table ID of **B19013**.\n",
    "Now we want to look at the variables within the table, using the url that is listed in the data. However, the url points to a JSON object containing the variables. We want it in HTML for easier reading. This can be done pretty easily in Python:"
   ]
  },
  {
   "cell_type": "code",
   "execution_count": 7,
   "id": "e655ea21-8dcc-4ab6-8b34-68fe8af60e45",
   "metadata": {},
   "outputs": [
    {
     "name": "stdout",
     "output_type": "stream",
     "text": [
      "http://api.census.gov/data/2021/acs/acs1/groups/B19013.html\n"
     ]
    }
   ],
   "source": [
    "for table in client.acs1.tables():\n",
    "    if table['name'] == 'B19013':\n",
    "        url = table['variables']\n",
    "        print(url.replace('json', 'html'))"
   ]
  },
  {
   "cell_type": "markdown",
   "id": "8233423c-4cb0-4921-9345-7aefefc0ebab",
   "metadata": {},
   "source": [
    "Click on the link to view the variables. You will notice the table IDs now have some extra characters at the end. They all now have `_001` which identifies the column. The letters at the end define the type of measure. We are only interested in those that end in `E` for estimate and `M` for margin of error.\n",
    "## Downloading data\n",
    "So now let's define a few things to make it easier for us to query the API and download the relevant data:"
   ]
  },
  {
   "cell_type": "code",
   "execution_count": 8,
   "id": "63437b14-c132-4df6-a571-8c8a45a0b32c",
   "metadata": {},
   "outputs": [],
   "source": [
    "state_fips = '06' # California state FIPS code\n",
    "county_fips = '085' # FIPS code for Santa Clara County"
   ]
  },
  {
   "cell_type": "markdown",
   "id": "13b4840e-cee7-4fe0-a82d-2da371e44367",
   "metadata": {},
   "source": [
    "We also need to specify what fields we want to download from the table we've identified. I like to do this in a dictionary where the keys are the variable IDs and the values are human-readable names of the variables. I do this so I can easily see what these are in my code and to make renaming columns easier later on."
   ]
  },
  {
   "cell_type": "code",
   "execution_count": 9,
   "id": "2891a726-70e3-4e1e-aac1-4a7703e86bb9",
   "metadata": {},
   "outputs": [],
   "source": [
    "fields = {\n",
    "    'B19013_001E': 'median_hh_income',\n",
    "    'B19013_001M': 'margin_of_error',\n",
    "}\n",
    "# I also create a list of the variable IDs to give to the Census client\n",
    "field_codes = list(fields.keys())"
   ]
  },
  {
   "cell_type": "markdown",
   "id": "57740cf1-302a-4433-92c6-f0b71277e5bb",
   "metadata": {},
   "source": [
    "We want to use the client's `state_county` function to download the appropriate data. It takes three arguments - the fields we want to download, the state FIPS code and the county FIPS code."
   ]
  },
  {
   "cell_type": "code",
   "execution_count": 10,
   "id": "4616d754-3697-4746-94fa-ae4e4df3a60b",
   "metadata": {},
   "outputs": [
    {
     "data": {
      "text/plain": [
       "[{'B19013_001E': 141562.0,\n",
       "  'B19013_001M': 2669.0,\n",
       "  'state': '06',\n",
       "  'county': '085'}]"
      ]
     },
     "execution_count": 10,
     "metadata": {},
     "output_type": "execute_result"
    }
   ],
   "source": [
    "county_data = client.acs1.state_county(field_codes, state_fips, county_fips)\n",
    "county_data"
   ]
  },
  {
   "cell_type": "markdown",
   "id": "6c0255a3-24f8-4f1d-a5b2-eaa17cc5b493",
   "metadata": {},
   "source": [
    "We now have a list containing a dictionary with our estimates. Let's add a bit more metadata to this. This is not necessary, we are doing it so we can do some analysis later on."
   ]
  },
  {
   "cell_type": "code",
   "execution_count": 11,
   "id": "96578c4f-498a-4cc9-953f-d9cd4f69cc8f",
   "metadata": {},
   "outputs": [
    {
     "data": {
      "text/plain": [
       "[{'B19013_001E': 141562.0,\n",
       "  'B19013_001M': 2669.0,\n",
       "  'state': '06',\n",
       "  'county': '085',\n",
       "  'dataset': '1-year estimate',\n",
       "  'geo_name': 'Santa Clara County'}]"
      ]
     },
     "execution_count": 11,
     "metadata": {},
     "output_type": "execute_result"
    }
   ],
   "source": [
    "for row in county_data:\n",
    "    row['dataset'] = '1-year estimate'\n",
    "    row['geo_name'] = 'Santa Clara County'\n",
    "county_data"
   ]
  },
  {
   "cell_type": "markdown",
   "id": "b3c4b27b-1f4d-4700-9443-5925eaa51aea",
   "metadata": {},
   "source": [
    "Next, let's convert this to a dataframe and rename the columns so they are easier to read."
   ]
  },
  {
   "cell_type": "code",
   "execution_count": 12,
   "id": "3db37abf-ed60-4bf8-b367-922262c8b4b9",
   "metadata": {},
   "outputs": [
    {
     "data": {
      "text/html": [
       "<div>\n",
       "<style scoped>\n",
       "    .dataframe tbody tr th:only-of-type {\n",
       "        vertical-align: middle;\n",
       "    }\n",
       "\n",
       "    .dataframe tbody tr th {\n",
       "        vertical-align: top;\n",
       "    }\n",
       "\n",
       "    .dataframe thead th {\n",
       "        text-align: right;\n",
       "    }\n",
       "</style>\n",
       "<table border=\"1\" class=\"dataframe\">\n",
       "  <thead>\n",
       "    <tr style=\"text-align: right;\">\n",
       "      <th></th>\n",
       "      <th>median_hh_income</th>\n",
       "      <th>margin_of_error</th>\n",
       "      <th>state</th>\n",
       "      <th>county</th>\n",
       "      <th>dataset</th>\n",
       "      <th>geo_name</th>\n",
       "    </tr>\n",
       "  </thead>\n",
       "  <tbody>\n",
       "    <tr>\n",
       "      <th>0</th>\n",
       "      <td>141562.0</td>\n",
       "      <td>2669.0</td>\n",
       "      <td>06</td>\n",
       "      <td>085</td>\n",
       "      <td>1-year estimate</td>\n",
       "      <td>Santa Clara County</td>\n",
       "    </tr>\n",
       "  </tbody>\n",
       "</table>\n",
       "</div>"
      ],
      "text/plain": [
       "   median_hh_income  margin_of_error state county          dataset  \\\n",
       "0          141562.0           2669.0    06    085  1-year estimate   \n",
       "\n",
       "             geo_name  \n",
       "0  Santa Clara County  "
      ]
     },
     "execution_count": 12,
     "metadata": {},
     "output_type": "execute_result"
    }
   ],
   "source": [
    "data = pd.DataFrame(county_data)\n",
    "#inplace modifies the dataframe in place, rather than returning a new dataframe\n",
    "data.rename(columns=fields, inplace=True) \n",
    "\n",
    "data"
   ]
  },
  {
   "cell_type": "markdown",
   "id": "6aa5954e-36d1-4ec6-8d74-0ed2161fc1b8",
   "metadata": {},
   "source": [
    "## Margin of error\n",
    "\n",
    "This section of the notebook replicates the information in the [README](./README.md#Margins-of-error).\n",
    "\n",
    "Margins of error tell us the reliability of data collected from surveys where sampling is used. The smaller the sample size, the larger the margin of error.\n",
    "\n",
    "Let's look at our median household income data again."
   ]
  },
  {
   "cell_type": "code",
   "execution_count": 13,
   "id": "b2ebedf5-c177-46d5-a27f-d02a3ae547da",
   "metadata": {},
   "outputs": [
    {
     "data": {
      "text/html": [
       "<div>\n",
       "<style scoped>\n",
       "    .dataframe tbody tr th:only-of-type {\n",
       "        vertical-align: middle;\n",
       "    }\n",
       "\n",
       "    .dataframe tbody tr th {\n",
       "        vertical-align: top;\n",
       "    }\n",
       "\n",
       "    .dataframe thead th {\n",
       "        text-align: right;\n",
       "    }\n",
       "</style>\n",
       "<table border=\"1\" class=\"dataframe\">\n",
       "  <thead>\n",
       "    <tr style=\"text-align: right;\">\n",
       "      <th></th>\n",
       "      <th>median_hh_income</th>\n",
       "      <th>margin_of_error</th>\n",
       "      <th>state</th>\n",
       "      <th>county</th>\n",
       "      <th>dataset</th>\n",
       "      <th>geo_name</th>\n",
       "    </tr>\n",
       "  </thead>\n",
       "  <tbody>\n",
       "    <tr>\n",
       "      <th>0</th>\n",
       "      <td>141562.0</td>\n",
       "      <td>2669.0</td>\n",
       "      <td>06</td>\n",
       "      <td>085</td>\n",
       "      <td>1-year estimate</td>\n",
       "      <td>Santa Clara County</td>\n",
       "    </tr>\n",
       "  </tbody>\n",
       "</table>\n",
       "</div>"
      ],
      "text/plain": [
       "   median_hh_income  margin_of_error state county          dataset  \\\n",
       "0          141562.0           2669.0    06    085  1-year estimate   \n",
       "\n",
       "             geo_name  \n",
       "0  Santa Clara County  "
      ]
     },
     "execution_count": 13,
     "metadata": {},
     "output_type": "execute_result"
    }
   ],
   "source": [
    "data"
   ]
  },
  {
   "cell_type": "markdown",
   "id": "1fd843f3-5db7-4b77-88bc-0ede485e2620",
   "metadata": {},
   "source": [
    "We can say the true median household income is within \\\\$2,669 of the published estimate of $141,562. \n",
    "\n",
    "If we subtract the margin of error from the published estimate, we get the lower bound of what is known as the confidence interval."
   ]
  },
  {
   "cell_type": "code",
   "execution_count": 14,
   "id": "f6cb6eba-003c-4cac-ae04-ffbc12599ebe",
   "metadata": {},
   "outputs": [
    {
     "data": {
      "text/plain": [
       "0    138893.0\n",
       "Name: lower_bound, dtype: float64"
      ]
     },
     "execution_count": 14,
     "metadata": {},
     "output_type": "execute_result"
    }
   ],
   "source": [
    "data['lower_bound'] = data['median_hh_income'] - data['margin_of_error']\n",
    "data['lower_bound']"
   ]
  },
  {
   "cell_type": "markdown",
   "id": "24f19e3f-ebd1-409b-85f9-b3c21f7d3f46",
   "metadata": {},
   "source": [
    "Adding the margin of error to the estimate gives us the confidence interval's upper bound."
   ]
  },
  {
   "cell_type": "code",
   "execution_count": 15,
   "id": "101003e2-a33b-416a-9fbc-5030e96dbac0",
   "metadata": {},
   "outputs": [
    {
     "data": {
      "text/plain": [
       "0    144231.0\n",
       "Name: upper_bound, dtype: float64"
      ]
     },
     "execution_count": 15,
     "metadata": {},
     "output_type": "execute_result"
    }
   ],
   "source": [
    "data['upper_bound'] = data['median_hh_income'] + data['margin_of_error']\n",
    "data['upper_bound']"
   ]
  },
  {
   "cell_type": "markdown",
   "id": "56511795-9cfb-4823-9516-953e9fbb5986",
   "metadata": {},
   "source": [
    "The confidence interval is the range in which we can say with some degree of confidence the estimate's true value exists."
   ]
  },
  {
   "cell_type": "code",
   "execution_count": 16,
   "id": "52c341a1-a3cc-4bf4-87d4-510dc6b761fc",
   "metadata": {},
   "outputs": [
    {
     "data": {
      "text/html": [
       "<div>\n",
       "<style scoped>\n",
       "    .dataframe tbody tr th:only-of-type {\n",
       "        vertical-align: middle;\n",
       "    }\n",
       "\n",
       "    .dataframe tbody tr th {\n",
       "        vertical-align: top;\n",
       "    }\n",
       "\n",
       "    .dataframe thead th {\n",
       "        text-align: right;\n",
       "    }\n",
       "</style>\n",
       "<table border=\"1\" class=\"dataframe\">\n",
       "  <thead>\n",
       "    <tr style=\"text-align: right;\">\n",
       "      <th></th>\n",
       "      <th>median_hh_income</th>\n",
       "      <th>margin_of_error</th>\n",
       "      <th>lower_bound</th>\n",
       "      <th>upper_bound</th>\n",
       "    </tr>\n",
       "  </thead>\n",
       "  <tbody>\n",
       "    <tr>\n",
       "      <th>0</th>\n",
       "      <td>141562.0</td>\n",
       "      <td>2669.0</td>\n",
       "      <td>138893.0</td>\n",
       "      <td>144231.0</td>\n",
       "    </tr>\n",
       "  </tbody>\n",
       "</table>\n",
       "</div>"
      ],
      "text/plain": [
       "   median_hh_income  margin_of_error  lower_bound  upper_bound\n",
       "0          141562.0           2669.0     138893.0     144231.0"
      ]
     },
     "execution_count": 16,
     "metadata": {},
     "output_type": "execute_result"
    }
   ],
   "source": [
    "data[['median_hh_income', 'margin_of_error','lower_bound','upper_bound']]"
   ]
  },
  {
   "cell_type": "markdown",
   "id": "2b2e6d26-cb57-44df-bc76-062db85e5529",
   "metadata": {},
   "source": [
    "In this example, we can say with some degree of confidence that the true median household income is somewhere between \\$138,893 and \\\\$144,231. Just how much confidence? The Census Bureau publishes their estimates at the 90 percent confidence level. So we can say the following:\n",
    "> We are 90 percent confident the median household income for Santa Clara County is between \\\\$138,893 and \\$144,231.\n",
    "\n",
    "**IMPORTANT:** You should always keep an eye on the margin of error. Look for cases where the lower bound of the confidence interval is less than zero or no longer makes sense.\n",
    "\n",
    "We can reduce the margin of error and make our estimates more reliable by increasing the sample size. There are a couple of ways to do that with Census data.\n",
    "\n",
    "### Use a larger geography - adding state data\n",
    "\n",
    "The easiest way to increase sample size is to increase the size of the geography. In this case, let's add to the table the median household income for the state of California.\n",
    "\n",
    "The procedure to get state-level data is mostly the same as above, but we will use the Census client's `state` function rather than the `state_county` function."
   ]
  },
  {
   "cell_type": "code",
   "execution_count": 17,
   "id": "e5fe65c8-87d8-48e6-84ff-2d00e277e61f",
   "metadata": {},
   "outputs": [
    {
     "data": {
      "text/plain": [
       "[{'B19013_001E': 84907.0, 'B19013_001M': 542.0, 'state': '06'}]"
      ]
     },
     "execution_count": 17,
     "metadata": {},
     "output_type": "execute_result"
    }
   ],
   "source": [
    "state_data = client.acs1.state(field_codes, state_fips)\n",
    "state_data"
   ]
  },
  {
   "cell_type": "markdown",
   "id": "11f2e6dc-2d7b-4c7d-b721-14e86650c1ce",
   "metadata": {},
   "source": [
    "Let's add in the extra metadata:"
   ]
  },
  {
   "cell_type": "code",
   "execution_count": 18,
   "id": "8b3347ca-1222-4396-aee0-9ab1350e7ea0",
   "metadata": {},
   "outputs": [
    {
     "data": {
      "text/plain": [
       "[{'B19013_001E': 84907.0,\n",
       "  'B19013_001M': 542.0,\n",
       "  'state': '06',\n",
       "  'dataset': '1-year estimate',\n",
       "  'geo_name': 'State of California'}]"
      ]
     },
     "execution_count": 18,
     "metadata": {},
     "output_type": "execute_result"
    }
   ],
   "source": [
    "for row in state_data:\n",
    "    row['dataset'] = '1-year estimate'\n",
    "    row['geo_name'] = 'State of California'\n",
    "state_data"
   ]
  },
  {
   "cell_type": "markdown",
   "id": "bfd34338-a166-4e90-bebc-d25ec7e8a369",
   "metadata": {},
   "source": [
    "Combine the state data with the county data from above:"
   ]
  },
  {
   "cell_type": "code",
   "execution_count": 19,
   "id": "08fe5b44-01c8-4180-90b3-09491711c794",
   "metadata": {},
   "outputs": [
    {
     "data": {
      "text/plain": [
       "[{'B19013_001E': 141562.0,\n",
       "  'B19013_001M': 2669.0,\n",
       "  'state': '06',\n",
       "  'county': '085',\n",
       "  'dataset': '1-year estimate',\n",
       "  'geo_name': 'Santa Clara County'},\n",
       " {'B19013_001E': 84907.0,\n",
       "  'B19013_001M': 542.0,\n",
       "  'state': '06',\n",
       "  'dataset': '1-year estimate',\n",
       "  'geo_name': 'State of California'}]"
      ]
     },
     "execution_count": 19,
     "metadata": {},
     "output_type": "execute_result"
    }
   ],
   "source": [
    "combined = county_data + state_data\n",
    "combined"
   ]
  },
  {
   "cell_type": "code",
   "execution_count": 20,
   "id": "8559585f-1794-48ea-8890-14aec2536263",
   "metadata": {},
   "outputs": [
    {
     "data": {
      "text/html": [
       "<div>\n",
       "<style scoped>\n",
       "    .dataframe tbody tr th:only-of-type {\n",
       "        vertical-align: middle;\n",
       "    }\n",
       "\n",
       "    .dataframe tbody tr th {\n",
       "        vertical-align: top;\n",
       "    }\n",
       "\n",
       "    .dataframe thead th {\n",
       "        text-align: right;\n",
       "    }\n",
       "</style>\n",
       "<table border=\"1\" class=\"dataframe\">\n",
       "  <thead>\n",
       "    <tr style=\"text-align: right;\">\n",
       "      <th></th>\n",
       "      <th>median_hh_income</th>\n",
       "      <th>margin_of_error</th>\n",
       "      <th>state</th>\n",
       "      <th>county</th>\n",
       "      <th>dataset</th>\n",
       "      <th>geo_name</th>\n",
       "    </tr>\n",
       "  </thead>\n",
       "  <tbody>\n",
       "    <tr>\n",
       "      <th>0</th>\n",
       "      <td>141562.0</td>\n",
       "      <td>2669.0</td>\n",
       "      <td>06</td>\n",
       "      <td>085</td>\n",
       "      <td>1-year estimate</td>\n",
       "      <td>Santa Clara County</td>\n",
       "    </tr>\n",
       "    <tr>\n",
       "      <th>1</th>\n",
       "      <td>84907.0</td>\n",
       "      <td>542.0</td>\n",
       "      <td>06</td>\n",
       "      <td>NaN</td>\n",
       "      <td>1-year estimate</td>\n",
       "      <td>State of California</td>\n",
       "    </tr>\n",
       "  </tbody>\n",
       "</table>\n",
       "</div>"
      ],
      "text/plain": [
       "   median_hh_income  margin_of_error state county          dataset  \\\n",
       "0          141562.0           2669.0    06    085  1-year estimate   \n",
       "1           84907.0            542.0    06    NaN  1-year estimate   \n",
       "\n",
       "              geo_name  \n",
       "0   Santa Clara County  \n",
       "1  State of California  "
      ]
     },
     "execution_count": 20,
     "metadata": {},
     "output_type": "execute_result"
    }
   ],
   "source": [
    "data = pd.DataFrame(combined)\n",
    "data.rename(columns=fields, inplace=True)\n",
    "data"
   ]
  },
  {
   "cell_type": "markdown",
   "id": "2ddd5972-c868-4679-aa9b-6354ddb83d90",
   "metadata": {},
   "source": [
    "Next let's calculate the bounds of our confidence intervals:"
   ]
  },
  {
   "cell_type": "code",
   "execution_count": 21,
   "id": "121bdb00-241d-45bd-92ad-2302d292cadd",
   "metadata": {},
   "outputs": [
    {
     "data": {
      "text/html": [
       "<div>\n",
       "<style scoped>\n",
       "    .dataframe tbody tr th:only-of-type {\n",
       "        vertical-align: middle;\n",
       "    }\n",
       "\n",
       "    .dataframe tbody tr th {\n",
       "        vertical-align: top;\n",
       "    }\n",
       "\n",
       "    .dataframe thead th {\n",
       "        text-align: right;\n",
       "    }\n",
       "</style>\n",
       "<table border=\"1\" class=\"dataframe\">\n",
       "  <thead>\n",
       "    <tr style=\"text-align: right;\">\n",
       "      <th></th>\n",
       "      <th>median_hh_income</th>\n",
       "      <th>margin_of_error</th>\n",
       "      <th>state</th>\n",
       "      <th>county</th>\n",
       "      <th>dataset</th>\n",
       "      <th>geo_name</th>\n",
       "      <th>lower_bound</th>\n",
       "      <th>upper_bound</th>\n",
       "    </tr>\n",
       "  </thead>\n",
       "  <tbody>\n",
       "    <tr>\n",
       "      <th>0</th>\n",
       "      <td>141562.0</td>\n",
       "      <td>2669.0</td>\n",
       "      <td>06</td>\n",
       "      <td>085</td>\n",
       "      <td>1-year estimate</td>\n",
       "      <td>Santa Clara County</td>\n",
       "      <td>138893.0</td>\n",
       "      <td>144231.0</td>\n",
       "    </tr>\n",
       "    <tr>\n",
       "      <th>1</th>\n",
       "      <td>84907.0</td>\n",
       "      <td>542.0</td>\n",
       "      <td>06</td>\n",
       "      <td>NaN</td>\n",
       "      <td>1-year estimate</td>\n",
       "      <td>State of California</td>\n",
       "      <td>84365.0</td>\n",
       "      <td>85449.0</td>\n",
       "    </tr>\n",
       "  </tbody>\n",
       "</table>\n",
       "</div>"
      ],
      "text/plain": [
       "   median_hh_income  margin_of_error state county          dataset  \\\n",
       "0          141562.0           2669.0    06    085  1-year estimate   \n",
       "1           84907.0            542.0    06    NaN  1-year estimate   \n",
       "\n",
       "              geo_name  lower_bound  upper_bound  \n",
       "0   Santa Clara County     138893.0     144231.0  \n",
       "1  State of California      84365.0      85449.0  "
      ]
     },
     "execution_count": 21,
     "metadata": {},
     "output_type": "execute_result"
    }
   ],
   "source": [
    "data['lower_bound'] = data['median_hh_income'] - data['margin_of_error']\n",
    "data['upper_bound'] = data['median_hh_income'] + data['margin_of_error']\n",
    "\n",
    "data"
   ]
  },
  {
   "cell_type": "markdown",
   "id": "83ffe6c8-48ac-46b9-8aeb-4ee5cbcfc027",
   "metadata": {},
   "source": [
    "The margin of error is much lower at the state level, but not without cost. The state estimate also includes other counties, not just Santa Clara County. But the state estimate doesn't accurately reflect the county estimate. This can be problematic if the scope of the analysis needs to be at the county level.\n",
    "\n",
    "If the analysis focuses on small geographies such as census tracts, consider switching to a county-level analysis to increase the reliability of the data.\n",
    "\n",
    "### Use 5-year estimates\n",
    "Another way of increasing sample size is to use 5-year estimates. These estimates are based on survey responses collected over a 5-year period, so the sample size is significantly larger.\n",
    "\n",
    "Begin by getting the county-level 5-year estimates. We are going to use the `state_county` function just as we did above, but this time we will switch to the `acs5` client to get the correct data."
   ]
  },
  {
   "cell_type": "code",
   "execution_count": 22,
   "id": "9812c711-0c83-4f8e-92af-2ec9ab6f8e23",
   "metadata": {},
   "outputs": [
    {
     "data": {
      "text/plain": [
       "[{'B19013_001E': 140258.0,\n",
       "  'B19013_001M': 1577.0,\n",
       "  'state': '06',\n",
       "  'county': '085'}]"
      ]
     },
     "execution_count": 22,
     "metadata": {},
     "output_type": "execute_result"
    }
   ],
   "source": [
    "county_data_5yr = client.acs5.state_county(field_codes, state_fips, county_fips)\n",
    "county_data_5yr"
   ]
  },
  {
   "cell_type": "markdown",
   "id": "dc305acc-8319-466d-82e8-e76027ba3268",
   "metadata": {},
   "source": [
    "Again we will add some metadata, making sure to specify `5-year estimate` as the `dataset`."
   ]
  },
  {
   "cell_type": "code",
   "execution_count": 23,
   "id": "156d9c71-bf1b-4c2f-af2c-be5bdad6b9e8",
   "metadata": {},
   "outputs": [
    {
     "data": {
      "text/plain": [
       "[{'B19013_001E': 140258.0,\n",
       "  'B19013_001M': 1577.0,\n",
       "  'state': '06',\n",
       "  'county': '085',\n",
       "  'dataset': '5-year estimate',\n",
       "  'geo_name': 'Santa Clara County'}]"
      ]
     },
     "execution_count": 23,
     "metadata": {},
     "output_type": "execute_result"
    }
   ],
   "source": [
    "for row in county_data_5yr:\n",
    "    row['dataset'] = '5-year estimate'\n",
    "    row['geo_name'] = 'Santa Clara County'\n",
    "county_data_5yr"
   ]
  },
  {
   "cell_type": "markdown",
   "id": "058ad061-013e-4ac1-9f2c-14660f82190a",
   "metadata": {},
   "source": [
    "Combine our data, load it into a dataframe, rename the columns and calculate the confidence interval:"
   ]
  },
  {
   "cell_type": "code",
   "execution_count": 24,
   "id": "2375b62c-781b-4ec1-9585-ecacd7597752",
   "metadata": {},
   "outputs": [
    {
     "data": {
      "text/html": [
       "<div>\n",
       "<style scoped>\n",
       "    .dataframe tbody tr th:only-of-type {\n",
       "        vertical-align: middle;\n",
       "    }\n",
       "\n",
       "    .dataframe tbody tr th {\n",
       "        vertical-align: top;\n",
       "    }\n",
       "\n",
       "    .dataframe thead th {\n",
       "        text-align: right;\n",
       "    }\n",
       "</style>\n",
       "<table border=\"1\" class=\"dataframe\">\n",
       "  <thead>\n",
       "    <tr style=\"text-align: right;\">\n",
       "      <th></th>\n",
       "      <th>median_hh_income</th>\n",
       "      <th>margin_of_error</th>\n",
       "      <th>state</th>\n",
       "      <th>county</th>\n",
       "      <th>dataset</th>\n",
       "      <th>geo_name</th>\n",
       "      <th>lower_bound</th>\n",
       "      <th>upper_bound</th>\n",
       "    </tr>\n",
       "  </thead>\n",
       "  <tbody>\n",
       "    <tr>\n",
       "      <th>0</th>\n",
       "      <td>141562.0</td>\n",
       "      <td>2669.0</td>\n",
       "      <td>06</td>\n",
       "      <td>085</td>\n",
       "      <td>1-year estimate</td>\n",
       "      <td>Santa Clara County</td>\n",
       "      <td>138893.0</td>\n",
       "      <td>144231.0</td>\n",
       "    </tr>\n",
       "    <tr>\n",
       "      <th>1</th>\n",
       "      <td>140258.0</td>\n",
       "      <td>1577.0</td>\n",
       "      <td>06</td>\n",
       "      <td>085</td>\n",
       "      <td>5-year estimate</td>\n",
       "      <td>Santa Clara County</td>\n",
       "      <td>138681.0</td>\n",
       "      <td>141835.0</td>\n",
       "    </tr>\n",
       "  </tbody>\n",
       "</table>\n",
       "</div>"
      ],
      "text/plain": [
       "   median_hh_income  margin_of_error state county          dataset  \\\n",
       "0          141562.0           2669.0    06    085  1-year estimate   \n",
       "1          140258.0           1577.0    06    085  5-year estimate   \n",
       "\n",
       "             geo_name  lower_bound  upper_bound  \n",
       "0  Santa Clara County     138893.0     144231.0  \n",
       "1  Santa Clara County     138681.0     141835.0  "
      ]
     },
     "execution_count": 24,
     "metadata": {},
     "output_type": "execute_result"
    }
   ],
   "source": [
    "combined = county_data + county_data_5yr\n",
    "data = pd.DataFrame(combined)\n",
    "data.rename(columns=fields, inplace=True)\n",
    "\n",
    "data['lower_bound'] = data['median_hh_income'] - data['margin_of_error']\n",
    "data['upper_bound'] = data['median_hh_income'] + data['margin_of_error']\n",
    "\n",
    "data"
   ]
  },
  {
   "cell_type": "markdown",
   "id": "ff611e83-136b-4687-971f-d296ed9f0d18",
   "metadata": {},
   "source": [
    "### Visualizing confident intervals\n",
    "\n",
    "We can use Altair to visualize confidence intervals. Visualization is beyond the scope of this notebook, so we won't go too deep into how to create charts.\n",
    "\n",
    "#### Create the estimates chart\n",
    "\n",
    "We will use `mark_point` to create a point chart and set the horizontal (X) axis to the median household income. The vertical (Y) axis, will be the dataset."
   ]
  },
  {
   "cell_type": "code",
   "execution_count": 25,
   "id": "66553b34-5d28-46da-8100-c1fefc630daf",
   "metadata": {},
   "outputs": [
    {
     "data": {
      "text/html": [
       "\n",
       "<style>\n",
       "  #altair-viz-05162c4bfb3c48c9bceb7d985113d9e9.vega-embed {\n",
       "    width: 100%;\n",
       "    display: flex;\n",
       "  }\n",
       "\n",
       "  #altair-viz-05162c4bfb3c48c9bceb7d985113d9e9.vega-embed details,\n",
       "  #altair-viz-05162c4bfb3c48c9bceb7d985113d9e9.vega-embed details summary {\n",
       "    position: relative;\n",
       "  }\n",
       "</style>\n",
       "<div id=\"altair-viz-05162c4bfb3c48c9bceb7d985113d9e9\"></div>\n",
       "<script type=\"text/javascript\">\n",
       "  var VEGA_DEBUG = (typeof VEGA_DEBUG == \"undefined\") ? {} : VEGA_DEBUG;\n",
       "  (function(spec, embedOpt){\n",
       "    let outputDiv = document.currentScript.previousElementSibling;\n",
       "    if (outputDiv.id !== \"altair-viz-05162c4bfb3c48c9bceb7d985113d9e9\") {\n",
       "      outputDiv = document.getElementById(\"altair-viz-05162c4bfb3c48c9bceb7d985113d9e9\");\n",
       "    }\n",
       "    const paths = {\n",
       "      \"vega\": \"https://cdn.jsdelivr.net/npm/vega@5?noext\",\n",
       "      \"vega-lib\": \"https://cdn.jsdelivr.net/npm/vega-lib?noext\",\n",
       "      \"vega-lite\": \"https://cdn.jsdelivr.net/npm/vega-lite@5.16.3?noext\",\n",
       "      \"vega-embed\": \"https://cdn.jsdelivr.net/npm/vega-embed@6?noext\",\n",
       "    };\n",
       "\n",
       "    function maybeLoadScript(lib, version) {\n",
       "      var key = `${lib.replace(\"-\", \"\")}_version`;\n",
       "      return (VEGA_DEBUG[key] == version) ?\n",
       "        Promise.resolve(paths[lib]) :\n",
       "        new Promise(function(resolve, reject) {\n",
       "          var s = document.createElement('script');\n",
       "          document.getElementsByTagName(\"head\")[0].appendChild(s);\n",
       "          s.async = true;\n",
       "          s.onload = () => {\n",
       "            VEGA_DEBUG[key] = version;\n",
       "            return resolve(paths[lib]);\n",
       "          };\n",
       "          s.onerror = () => reject(`Error loading script: ${paths[lib]}`);\n",
       "          s.src = paths[lib];\n",
       "        });\n",
       "    }\n",
       "\n",
       "    function showError(err) {\n",
       "      outputDiv.innerHTML = `<div class=\"error\" style=\"color:red;\">${err}</div>`;\n",
       "      throw err;\n",
       "    }\n",
       "\n",
       "    function displayChart(vegaEmbed) {\n",
       "      vegaEmbed(outputDiv, spec, embedOpt)\n",
       "        .catch(err => showError(`Javascript Error: ${err.message}<br>This usually means there's a typo in your chart specification. See the javascript console for the full traceback.`));\n",
       "    }\n",
       "\n",
       "    if(typeof define === \"function\" && define.amd) {\n",
       "      requirejs.config({paths});\n",
       "      require([\"vega-embed\"], displayChart, err => showError(`Error loading script: ${err.message}`));\n",
       "    } else {\n",
       "      maybeLoadScript(\"vega\", \"5\")\n",
       "        .then(() => maybeLoadScript(\"vega-lite\", \"5.16.3\"))\n",
       "        .then(() => maybeLoadScript(\"vega-embed\", \"6\"))\n",
       "        .catch(showError)\n",
       "        .then(() => displayChart(vegaEmbed));\n",
       "    }\n",
       "  })({\"config\": {\"view\": {\"continuousWidth\": 300, \"continuousHeight\": 300}}, \"data\": {\"name\": \"data-10cac06500215b2dafc02c43f02ed229\"}, \"mark\": {\"type\": \"point\", \"color\": \"black\", \"filled\": true}, \"encoding\": {\"x\": {\"field\": \"median_hh_income\", \"scale\": {\"zero\": false}, \"type\": \"quantitative\"}, \"y\": {\"field\": \"dataset\", \"type\": \"nominal\"}}, \"$schema\": \"https://vega.github.io/schema/vega-lite/v5.16.3.json\", \"datasets\": {\"data-10cac06500215b2dafc02c43f02ed229\": [{\"median_hh_income\": 141562.0, \"margin_of_error\": 2669.0, \"state\": \"06\", \"county\": \"085\", \"dataset\": \"1-year estimate\", \"geo_name\": \"Santa Clara County\", \"lower_bound\": 138893.0, \"upper_bound\": 144231.0}, {\"median_hh_income\": 140258.0, \"margin_of_error\": 1577.0, \"state\": \"06\", \"county\": \"085\", \"dataset\": \"5-year estimate\", \"geo_name\": \"Santa Clara County\", \"lower_bound\": 138681.0, \"upper_bound\": 141835.0}]}}, {\"mode\": \"vega-lite\"});\n",
       "</script>"
      ],
      "text/plain": [
       "alt.Chart(...)"
      ]
     },
     "execution_count": 25,
     "metadata": {},
     "output_type": "execute_result"
    }
   ],
   "source": [
    "estimates = alt.Chart(\n",
    "    data\n",
    ").mark_point(\n",
    "    filled=True,\n",
    "    color='black'\n",
    ").encode(\n",
    "    alt.X('median_hh_income').scale(zero=False),\n",
    "    y='dataset'\n",
    ")\n",
    "estimates"
   ]
  },
  {
   "cell_type": "markdown",
   "id": "7ddd62df-f04b-4050-ac43-c50a96545058",
   "metadata": {},
   "source": [
    "To chart confidence intervales, we will use `mark_errorbar`. Note we specify two encodings for the X axis - one for the upper bound of the confidence interval and a second for the lower bound."
   ]
  },
  {
   "cell_type": "code",
   "execution_count": 26,
   "id": "05abd6f7-73ca-4b55-8596-d73a648beb54",
   "metadata": {},
   "outputs": [
    {
     "data": {
      "text/html": [
       "\n",
       "<style>\n",
       "  #altair-viz-45f2f8d9819441ce9a1e1f1de4bf7c2a.vega-embed {\n",
       "    width: 100%;\n",
       "    display: flex;\n",
       "  }\n",
       "\n",
       "  #altair-viz-45f2f8d9819441ce9a1e1f1de4bf7c2a.vega-embed details,\n",
       "  #altair-viz-45f2f8d9819441ce9a1e1f1de4bf7c2a.vega-embed details summary {\n",
       "    position: relative;\n",
       "  }\n",
       "</style>\n",
       "<div id=\"altair-viz-45f2f8d9819441ce9a1e1f1de4bf7c2a\"></div>\n",
       "<script type=\"text/javascript\">\n",
       "  var VEGA_DEBUG = (typeof VEGA_DEBUG == \"undefined\") ? {} : VEGA_DEBUG;\n",
       "  (function(spec, embedOpt){\n",
       "    let outputDiv = document.currentScript.previousElementSibling;\n",
       "    if (outputDiv.id !== \"altair-viz-45f2f8d9819441ce9a1e1f1de4bf7c2a\") {\n",
       "      outputDiv = document.getElementById(\"altair-viz-45f2f8d9819441ce9a1e1f1de4bf7c2a\");\n",
       "    }\n",
       "    const paths = {\n",
       "      \"vega\": \"https://cdn.jsdelivr.net/npm/vega@5?noext\",\n",
       "      \"vega-lib\": \"https://cdn.jsdelivr.net/npm/vega-lib?noext\",\n",
       "      \"vega-lite\": \"https://cdn.jsdelivr.net/npm/vega-lite@5.16.3?noext\",\n",
       "      \"vega-embed\": \"https://cdn.jsdelivr.net/npm/vega-embed@6?noext\",\n",
       "    };\n",
       "\n",
       "    function maybeLoadScript(lib, version) {\n",
       "      var key = `${lib.replace(\"-\", \"\")}_version`;\n",
       "      return (VEGA_DEBUG[key] == version) ?\n",
       "        Promise.resolve(paths[lib]) :\n",
       "        new Promise(function(resolve, reject) {\n",
       "          var s = document.createElement('script');\n",
       "          document.getElementsByTagName(\"head\")[0].appendChild(s);\n",
       "          s.async = true;\n",
       "          s.onload = () => {\n",
       "            VEGA_DEBUG[key] = version;\n",
       "            return resolve(paths[lib]);\n",
       "          };\n",
       "          s.onerror = () => reject(`Error loading script: ${paths[lib]}`);\n",
       "          s.src = paths[lib];\n",
       "        });\n",
       "    }\n",
       "\n",
       "    function showError(err) {\n",
       "      outputDiv.innerHTML = `<div class=\"error\" style=\"color:red;\">${err}</div>`;\n",
       "      throw err;\n",
       "    }\n",
       "\n",
       "    function displayChart(vegaEmbed) {\n",
       "      vegaEmbed(outputDiv, spec, embedOpt)\n",
       "        .catch(err => showError(`Javascript Error: ${err.message}<br>This usually means there's a typo in your chart specification. See the javascript console for the full traceback.`));\n",
       "    }\n",
       "\n",
       "    if(typeof define === \"function\" && define.amd) {\n",
       "      requirejs.config({paths});\n",
       "      require([\"vega-embed\"], displayChart, err => showError(`Error loading script: ${err.message}`));\n",
       "    } else {\n",
       "      maybeLoadScript(\"vega\", \"5\")\n",
       "        .then(() => maybeLoadScript(\"vega-lite\", \"5.16.3\"))\n",
       "        .then(() => maybeLoadScript(\"vega-embed\", \"6\"))\n",
       "        .catch(showError)\n",
       "        .then(() => displayChart(vegaEmbed));\n",
       "    }\n",
       "  })({\"config\": {\"view\": {\"continuousWidth\": 300, \"continuousHeight\": 300}}, \"data\": {\"name\": \"data-10cac06500215b2dafc02c43f02ed229\"}, \"mark\": {\"type\": \"errorbar\", \"color\": \"red\"}, \"encoding\": {\"x\": {\"field\": \"upper_bound\", \"scale\": {\"zero\": false}, \"type\": \"quantitative\"}, \"x2\": {\"field\": \"lower_bound\"}, \"y\": {\"field\": \"dataset\", \"type\": \"nominal\"}}, \"$schema\": \"https://vega.github.io/schema/vega-lite/v5.16.3.json\", \"datasets\": {\"data-10cac06500215b2dafc02c43f02ed229\": [{\"median_hh_income\": 141562.0, \"margin_of_error\": 2669.0, \"state\": \"06\", \"county\": \"085\", \"dataset\": \"1-year estimate\", \"geo_name\": \"Santa Clara County\", \"lower_bound\": 138893.0, \"upper_bound\": 144231.0}, {\"median_hh_income\": 140258.0, \"margin_of_error\": 1577.0, \"state\": \"06\", \"county\": \"085\", \"dataset\": \"5-year estimate\", \"geo_name\": \"Santa Clara County\", \"lower_bound\": 138681.0, \"upper_bound\": 141835.0}]}}, {\"mode\": \"vega-lite\"});\n",
       "</script>"
      ],
      "text/plain": [
       "alt.Chart(...)"
      ]
     },
     "execution_count": 26,
     "metadata": {},
     "output_type": "execute_result"
    }
   ],
   "source": [
    "confidence_intervals = alt.Chart(\n",
    "    data\n",
    ").mark_errorbar(\n",
    "    color='red'\n",
    ").encode(\n",
    "    alt.X('upper_bound').scale(zero=False),\n",
    "    alt.X2('lower_bound'),\n",
    "    y='dataset'\n",
    ")\n",
    "confidence_intervals"
   ]
  },
  {
   "cell_type": "markdown",
   "id": "639cc77f-043d-4e11-b49d-0cf710c3eea7",
   "metadata": {},
   "source": [
    "Next we can combine the two charts to create a composite. We also can adjust some properties of the chart such as height."
   ]
  },
  {
   "cell_type": "code",
   "execution_count": 27,
   "id": "38e95485-4c0a-4479-8ee0-f5e2a3122fbf",
   "metadata": {},
   "outputs": [
    {
     "data": {
      "text/html": [
       "\n",
       "<style>\n",
       "  #altair-viz-50c701fda1ca4962a2192ded3aa64b56.vega-embed {\n",
       "    width: 100%;\n",
       "    display: flex;\n",
       "  }\n",
       "\n",
       "  #altair-viz-50c701fda1ca4962a2192ded3aa64b56.vega-embed details,\n",
       "  #altair-viz-50c701fda1ca4962a2192ded3aa64b56.vega-embed details summary {\n",
       "    position: relative;\n",
       "  }\n",
       "</style>\n",
       "<div id=\"altair-viz-50c701fda1ca4962a2192ded3aa64b56\"></div>\n",
       "<script type=\"text/javascript\">\n",
       "  var VEGA_DEBUG = (typeof VEGA_DEBUG == \"undefined\") ? {} : VEGA_DEBUG;\n",
       "  (function(spec, embedOpt){\n",
       "    let outputDiv = document.currentScript.previousElementSibling;\n",
       "    if (outputDiv.id !== \"altair-viz-50c701fda1ca4962a2192ded3aa64b56\") {\n",
       "      outputDiv = document.getElementById(\"altair-viz-50c701fda1ca4962a2192ded3aa64b56\");\n",
       "    }\n",
       "    const paths = {\n",
       "      \"vega\": \"https://cdn.jsdelivr.net/npm/vega@5?noext\",\n",
       "      \"vega-lib\": \"https://cdn.jsdelivr.net/npm/vega-lib?noext\",\n",
       "      \"vega-lite\": \"https://cdn.jsdelivr.net/npm/vega-lite@5.16.3?noext\",\n",
       "      \"vega-embed\": \"https://cdn.jsdelivr.net/npm/vega-embed@6?noext\",\n",
       "    };\n",
       "\n",
       "    function maybeLoadScript(lib, version) {\n",
       "      var key = `${lib.replace(\"-\", \"\")}_version`;\n",
       "      return (VEGA_DEBUG[key] == version) ?\n",
       "        Promise.resolve(paths[lib]) :\n",
       "        new Promise(function(resolve, reject) {\n",
       "          var s = document.createElement('script');\n",
       "          document.getElementsByTagName(\"head\")[0].appendChild(s);\n",
       "          s.async = true;\n",
       "          s.onload = () => {\n",
       "            VEGA_DEBUG[key] = version;\n",
       "            return resolve(paths[lib]);\n",
       "          };\n",
       "          s.onerror = () => reject(`Error loading script: ${paths[lib]}`);\n",
       "          s.src = paths[lib];\n",
       "        });\n",
       "    }\n",
       "\n",
       "    function showError(err) {\n",
       "      outputDiv.innerHTML = `<div class=\"error\" style=\"color:red;\">${err}</div>`;\n",
       "      throw err;\n",
       "    }\n",
       "\n",
       "    function displayChart(vegaEmbed) {\n",
       "      vegaEmbed(outputDiv, spec, embedOpt)\n",
       "        .catch(err => showError(`Javascript Error: ${err.message}<br>This usually means there's a typo in your chart specification. See the javascript console for the full traceback.`));\n",
       "    }\n",
       "\n",
       "    if(typeof define === \"function\" && define.amd) {\n",
       "      requirejs.config({paths});\n",
       "      require([\"vega-embed\"], displayChart, err => showError(`Error loading script: ${err.message}`));\n",
       "    } else {\n",
       "      maybeLoadScript(\"vega\", \"5\")\n",
       "        .then(() => maybeLoadScript(\"vega-lite\", \"5.16.3\"))\n",
       "        .then(() => maybeLoadScript(\"vega-embed\", \"6\"))\n",
       "        .catch(showError)\n",
       "        .then(() => displayChart(vegaEmbed));\n",
       "    }\n",
       "  })({\"config\": {\"view\": {\"continuousWidth\": 300, \"continuousHeight\": 300}}, \"layer\": [{\"mark\": {\"type\": \"point\", \"color\": \"black\", \"filled\": true}, \"encoding\": {\"x\": {\"field\": \"median_hh_income\", \"scale\": {\"zero\": false}, \"type\": \"quantitative\"}, \"y\": {\"field\": \"dataset\", \"type\": \"nominal\"}}}, {\"mark\": {\"type\": \"errorbar\", \"color\": \"red\"}, \"encoding\": {\"x\": {\"field\": \"upper_bound\", \"scale\": {\"zero\": false}, \"type\": \"quantitative\"}, \"x2\": {\"field\": \"lower_bound\"}, \"y\": {\"field\": \"dataset\", \"type\": \"nominal\"}}}], \"data\": {\"name\": \"data-10cac06500215b2dafc02c43f02ed229\"}, \"height\": 150, \"$schema\": \"https://vega.github.io/schema/vega-lite/v5.16.3.json\", \"datasets\": {\"data-10cac06500215b2dafc02c43f02ed229\": [{\"median_hh_income\": 141562.0, \"margin_of_error\": 2669.0, \"state\": \"06\", \"county\": \"085\", \"dataset\": \"1-year estimate\", \"geo_name\": \"Santa Clara County\", \"lower_bound\": 138893.0, \"upper_bound\": 144231.0}, {\"median_hh_income\": 140258.0, \"margin_of_error\": 1577.0, \"state\": \"06\", \"county\": \"085\", \"dataset\": \"5-year estimate\", \"geo_name\": \"Santa Clara County\", \"lower_bound\": 138681.0, \"upper_bound\": 141835.0}]}}, {\"mode\": \"vega-lite\"});\n",
       "</script>"
      ],
      "text/plain": [
       "alt.LayerChart(...)"
      ]
     },
     "execution_count": 27,
     "metadata": {},
     "output_type": "execute_result"
    }
   ],
   "source": [
    "(estimates + confidence_intervals).properties(height=150)"
   ]
  },
  {
   "cell_type": "markdown",
   "id": "25e10d1e-1d1a-4308-baee-bbccf2b469d9",
   "metadata": {},
   "source": [
    "We can easily see the confidence interval is much smaller and the estimates look closer to each other. Most times we opt to use 5-year estimates.\n",
    "\n",
    "**IMPORTANT:**\n",
    "\n",
    "- Remember year-to-year analysis should not be done because 5-year estimates containing data from overlapping years.\n",
    "- Estimates at the tract level will still have high margins of error that need to be carefully considered when planning a methodology.\n",
    "\n",
    "### Avoid segmenting the population\n",
    "If possible, avoid segmenting the population into demographic subgroups. This can be difficult because we often want to look at things and consider other factors such as age, sex, race and/or ethnicity. \n",
    "\n",
    "However whenever we do so, the margin of error will most likely increase because the sample size is reduced.\n",
    "\n",
    "Let's download 5-year estimates of median household income for multi-racial households:"
   ]
  },
  {
   "cell_type": "code",
   "execution_count": 28,
   "id": "53d6f0e1-d797-4da1-8e12-3c7dd04d7547",
   "metadata": {},
   "outputs": [
    {
     "data": {
      "text/plain": [
       "[{'B19013G_001E': 115064.0,\n",
       "  'B19013G_001M': 6828.0,\n",
       "  'state': '06',\n",
       "  'county': '085'}]"
      ]
     },
     "execution_count": 28,
     "metadata": {},
     "output_type": "execute_result"
    }
   ],
   "source": [
    "multiracial_fields = {\n",
    "    'B19013G_001E': 'median_hh_income', #notice the slight change to table IDs\n",
    "    'B19013G_001M': 'margin_of_error',\n",
    "}\n",
    "multiracial_codes = list(multiracial_fields.keys())\n",
    "multiracial_data = client.acs5.state_county(multiracial_codes, state_fips, county_fips)\n",
    "multiracial_data"
   ]
  },
  {
   "cell_type": "markdown",
   "id": "f72fe65e-bd8f-41c3-950a-b92149eb5be5",
   "metadata": {},
   "source": [
    "Add metadata"
   ]
  },
  {
   "cell_type": "code",
   "execution_count": 29,
   "id": "f6fa9e80-4f9a-47ca-a6a1-59dd0edec70a",
   "metadata": {},
   "outputs": [
    {
     "data": {
      "text/plain": [
       "[{'B19013G_001E': 115064.0,\n",
       "  'B19013G_001M': 6828.0,\n",
       "  'state': '06',\n",
       "  'county': '085',\n",
       "  'dataset': '5-year estimate',\n",
       "  'geo_name': 'Santa Clara County'}]"
      ]
     },
     "execution_count": 29,
     "metadata": {},
     "output_type": "execute_result"
    }
   ],
   "source": [
    "for row in multiracial_data:\n",
    "    row['dataset'] = '5-year estimate'\n",
    "    row['geo_name'] = 'Santa Clara County'\n",
    "multiracial_data"
   ]
  },
  {
   "cell_type": "markdown",
   "id": "2e6f89cc-c6cf-467d-bd2d-5973237cc984",
   "metadata": {},
   "source": [
    "We are going to take a slightly different approach when combining our data. Begin by prepping two dataframes, one for multiracial households and another for all households. We do this because the table IDs are slightly different between the two estimates. We are also going to add a column distinguishing the two different types of households - `all` and `multiracial`."
   ]
  },
  {
   "cell_type": "code",
   "execution_count": 30,
   "id": "68b38bc6-f2c1-4a51-ae1b-3fe398799be5",
   "metadata": {},
   "outputs": [
    {
     "data": {
      "text/html": [
       "<div>\n",
       "<style scoped>\n",
       "    .dataframe tbody tr th:only-of-type {\n",
       "        vertical-align: middle;\n",
       "    }\n",
       "\n",
       "    .dataframe tbody tr th {\n",
       "        vertical-align: top;\n",
       "    }\n",
       "\n",
       "    .dataframe thead th {\n",
       "        text-align: right;\n",
       "    }\n",
       "</style>\n",
       "<table border=\"1\" class=\"dataframe\">\n",
       "  <thead>\n",
       "    <tr style=\"text-align: right;\">\n",
       "      <th></th>\n",
       "      <th>median_hh_income</th>\n",
       "      <th>margin_of_error</th>\n",
       "      <th>state</th>\n",
       "      <th>county</th>\n",
       "      <th>dataset</th>\n",
       "      <th>geo_name</th>\n",
       "      <th>household_type</th>\n",
       "    </tr>\n",
       "  </thead>\n",
       "  <tbody>\n",
       "    <tr>\n",
       "      <th>0</th>\n",
       "      <td>115064.0</td>\n",
       "      <td>6828.0</td>\n",
       "      <td>06</td>\n",
       "      <td>085</td>\n",
       "      <td>5-year estimate</td>\n",
       "      <td>Santa Clara County</td>\n",
       "      <td>multiracial</td>\n",
       "    </tr>\n",
       "  </tbody>\n",
       "</table>\n",
       "</div>"
      ],
      "text/plain": [
       "   median_hh_income  margin_of_error state county          dataset  \\\n",
       "0          115064.0           6828.0    06    085  5-year estimate   \n",
       "\n",
       "             geo_name household_type  \n",
       "0  Santa Clara County    multiracial  "
      ]
     },
     "execution_count": 30,
     "metadata": {},
     "output_type": "execute_result"
    }
   ],
   "source": [
    "multiracial = pd.DataFrame(\n",
    "    multiracial_data\n",
    ").rename(\n",
    "    columns=multiracial_fields\n",
    ") # Notice we don't use inplace=True because we want something returned to the variable\n",
    "multiracial['household_type'] = 'multiracial'\n",
    "multiracial"
   ]
  },
  {
   "cell_type": "code",
   "execution_count": 31,
   "id": "b6fbf381-5d13-4449-92d2-d1bc8d96ebc7",
   "metadata": {},
   "outputs": [
    {
     "data": {
      "text/html": [
       "<div>\n",
       "<style scoped>\n",
       "    .dataframe tbody tr th:only-of-type {\n",
       "        vertical-align: middle;\n",
       "    }\n",
       "\n",
       "    .dataframe tbody tr th {\n",
       "        vertical-align: top;\n",
       "    }\n",
       "\n",
       "    .dataframe thead th {\n",
       "        text-align: right;\n",
       "    }\n",
       "</style>\n",
       "<table border=\"1\" class=\"dataframe\">\n",
       "  <thead>\n",
       "    <tr style=\"text-align: right;\">\n",
       "      <th></th>\n",
       "      <th>median_hh_income</th>\n",
       "      <th>margin_of_error</th>\n",
       "      <th>state</th>\n",
       "      <th>county</th>\n",
       "      <th>dataset</th>\n",
       "      <th>geo_name</th>\n",
       "      <th>household_type</th>\n",
       "    </tr>\n",
       "  </thead>\n",
       "  <tbody>\n",
       "    <tr>\n",
       "      <th>0</th>\n",
       "      <td>140258.0</td>\n",
       "      <td>1577.0</td>\n",
       "      <td>06</td>\n",
       "      <td>085</td>\n",
       "      <td>5-year estimate</td>\n",
       "      <td>Santa Clara County</td>\n",
       "      <td>all</td>\n",
       "    </tr>\n",
       "  </tbody>\n",
       "</table>\n",
       "</div>"
      ],
      "text/plain": [
       "   median_hh_income  margin_of_error state county          dataset  \\\n",
       "0          140258.0           1577.0    06    085  5-year estimate   \n",
       "\n",
       "             geo_name household_type  \n",
       "0  Santa Clara County            all  "
      ]
     },
     "execution_count": 31,
     "metadata": {},
     "output_type": "execute_result"
    }
   ],
   "source": [
    "all_hh = pd.DataFrame(\n",
    "    county_data_5yr\n",
    ").rename(\n",
    "    columns=fields\n",
    ")\n",
    "all_hh['household_type'] = 'all'\n",
    "all_hh"
   ]
  },
  {
   "cell_type": "markdown",
   "id": "2e3f3d6c-3943-4a50-8f91-132ac35765b6",
   "metadata": {},
   "source": [
    "Now we can combine the two sets of estimates using `pd.concat`"
   ]
  },
  {
   "cell_type": "code",
   "execution_count": 32,
   "id": "f6b42650-3bd1-4a30-ac0b-a199190c82bf",
   "metadata": {},
   "outputs": [
    {
     "data": {
      "text/html": [
       "<div>\n",
       "<style scoped>\n",
       "    .dataframe tbody tr th:only-of-type {\n",
       "        vertical-align: middle;\n",
       "    }\n",
       "\n",
       "    .dataframe tbody tr th {\n",
       "        vertical-align: top;\n",
       "    }\n",
       "\n",
       "    .dataframe thead th {\n",
       "        text-align: right;\n",
       "    }\n",
       "</style>\n",
       "<table border=\"1\" class=\"dataframe\">\n",
       "  <thead>\n",
       "    <tr style=\"text-align: right;\">\n",
       "      <th></th>\n",
       "      <th>median_hh_income</th>\n",
       "      <th>margin_of_error</th>\n",
       "      <th>state</th>\n",
       "      <th>county</th>\n",
       "      <th>dataset</th>\n",
       "      <th>geo_name</th>\n",
       "      <th>household_type</th>\n",
       "    </tr>\n",
       "  </thead>\n",
       "  <tbody>\n",
       "    <tr>\n",
       "      <th>0</th>\n",
       "      <td>140258.0</td>\n",
       "      <td>1577.0</td>\n",
       "      <td>06</td>\n",
       "      <td>085</td>\n",
       "      <td>5-year estimate</td>\n",
       "      <td>Santa Clara County</td>\n",
       "      <td>all</td>\n",
       "    </tr>\n",
       "    <tr>\n",
       "      <th>0</th>\n",
       "      <td>115064.0</td>\n",
       "      <td>6828.0</td>\n",
       "      <td>06</td>\n",
       "      <td>085</td>\n",
       "      <td>5-year estimate</td>\n",
       "      <td>Santa Clara County</td>\n",
       "      <td>multiracial</td>\n",
       "    </tr>\n",
       "  </tbody>\n",
       "</table>\n",
       "</div>"
      ],
      "text/plain": [
       "   median_hh_income  margin_of_error state county          dataset  \\\n",
       "0          140258.0           1577.0    06    085  5-year estimate   \n",
       "0          115064.0           6828.0    06    085  5-year estimate   \n",
       "\n",
       "             geo_name household_type  \n",
       "0  Santa Clara County            all  \n",
       "0  Santa Clara County    multiracial  "
      ]
     },
     "execution_count": 32,
     "metadata": {},
     "output_type": "execute_result"
    }
   ],
   "source": [
    "data = pd.concat([all_hh, multiracial])\n",
    "data"
   ]
  },
  {
   "cell_type": "markdown",
   "id": "371209c2-f89d-48a3-89a3-e2b55961647a",
   "metadata": {},
   "source": [
    "Ok great, now let's calculate the confidence intervals and visualize the results."
   ]
  },
  {
   "cell_type": "code",
   "execution_count": 33,
   "id": "7c4472c4-fdc9-4f42-a85d-9bb7685918be",
   "metadata": {},
   "outputs": [
    {
     "data": {
      "text/html": [
       "\n",
       "<style>\n",
       "  #altair-viz-d9002d7d7438449e8b09d30fa196f5ea.vega-embed {\n",
       "    width: 100%;\n",
       "    display: flex;\n",
       "  }\n",
       "\n",
       "  #altair-viz-d9002d7d7438449e8b09d30fa196f5ea.vega-embed details,\n",
       "  #altair-viz-d9002d7d7438449e8b09d30fa196f5ea.vega-embed details summary {\n",
       "    position: relative;\n",
       "  }\n",
       "</style>\n",
       "<div id=\"altair-viz-d9002d7d7438449e8b09d30fa196f5ea\"></div>\n",
       "<script type=\"text/javascript\">\n",
       "  var VEGA_DEBUG = (typeof VEGA_DEBUG == \"undefined\") ? {} : VEGA_DEBUG;\n",
       "  (function(spec, embedOpt){\n",
       "    let outputDiv = document.currentScript.previousElementSibling;\n",
       "    if (outputDiv.id !== \"altair-viz-d9002d7d7438449e8b09d30fa196f5ea\") {\n",
       "      outputDiv = document.getElementById(\"altair-viz-d9002d7d7438449e8b09d30fa196f5ea\");\n",
       "    }\n",
       "    const paths = {\n",
       "      \"vega\": \"https://cdn.jsdelivr.net/npm/vega@5?noext\",\n",
       "      \"vega-lib\": \"https://cdn.jsdelivr.net/npm/vega-lib?noext\",\n",
       "      \"vega-lite\": \"https://cdn.jsdelivr.net/npm/vega-lite@5.16.3?noext\",\n",
       "      \"vega-embed\": \"https://cdn.jsdelivr.net/npm/vega-embed@6?noext\",\n",
       "    };\n",
       "\n",
       "    function maybeLoadScript(lib, version) {\n",
       "      var key = `${lib.replace(\"-\", \"\")}_version`;\n",
       "      return (VEGA_DEBUG[key] == version) ?\n",
       "        Promise.resolve(paths[lib]) :\n",
       "        new Promise(function(resolve, reject) {\n",
       "          var s = document.createElement('script');\n",
       "          document.getElementsByTagName(\"head\")[0].appendChild(s);\n",
       "          s.async = true;\n",
       "          s.onload = () => {\n",
       "            VEGA_DEBUG[key] = version;\n",
       "            return resolve(paths[lib]);\n",
       "          };\n",
       "          s.onerror = () => reject(`Error loading script: ${paths[lib]}`);\n",
       "          s.src = paths[lib];\n",
       "        });\n",
       "    }\n",
       "\n",
       "    function showError(err) {\n",
       "      outputDiv.innerHTML = `<div class=\"error\" style=\"color:red;\">${err}</div>`;\n",
       "      throw err;\n",
       "    }\n",
       "\n",
       "    function displayChart(vegaEmbed) {\n",
       "      vegaEmbed(outputDiv, spec, embedOpt)\n",
       "        .catch(err => showError(`Javascript Error: ${err.message}<br>This usually means there's a typo in your chart specification. See the javascript console for the full traceback.`));\n",
       "    }\n",
       "\n",
       "    if(typeof define === \"function\" && define.amd) {\n",
       "      requirejs.config({paths});\n",
       "      require([\"vega-embed\"], displayChart, err => showError(`Error loading script: ${err.message}`));\n",
       "    } else {\n",
       "      maybeLoadScript(\"vega\", \"5\")\n",
       "        .then(() => maybeLoadScript(\"vega-lite\", \"5.16.3\"))\n",
       "        .then(() => maybeLoadScript(\"vega-embed\", \"6\"))\n",
       "        .catch(showError)\n",
       "        .then(() => displayChart(vegaEmbed));\n",
       "    }\n",
       "  })({\"config\": {\"view\": {\"continuousWidth\": 300, \"continuousHeight\": 300}}, \"layer\": [{\"mark\": {\"type\": \"point\", \"color\": \"black\", \"filled\": true}, \"encoding\": {\"x\": {\"field\": \"median_hh_income\", \"scale\": {\"zero\": false}, \"type\": \"quantitative\"}, \"y\": {\"field\": \"household_type\", \"type\": \"nominal\"}}}, {\"mark\": {\"type\": \"errorbar\", \"color\": \"red\"}, \"encoding\": {\"x\": {\"field\": \"upper_bound\", \"scale\": {\"zero\": false}, \"type\": \"quantitative\"}, \"x2\": {\"field\": \"lower_bound\"}, \"y\": {\"field\": \"household_type\", \"type\": \"nominal\"}}}], \"data\": {\"name\": \"data-b2e42def6d9319ad58e8411261299660\"}, \"height\": 150, \"$schema\": \"https://vega.github.io/schema/vega-lite/v5.16.3.json\", \"datasets\": {\"data-b2e42def6d9319ad58e8411261299660\": [{\"median_hh_income\": 140258.0, \"margin_of_error\": 1577.0, \"state\": \"06\", \"county\": \"085\", \"dataset\": \"5-year estimate\", \"geo_name\": \"Santa Clara County\", \"household_type\": \"all\", \"lower_bound\": 138681.0, \"upper_bound\": 141835.0}, {\"median_hh_income\": 115064.0, \"margin_of_error\": 6828.0, \"state\": \"06\", \"county\": \"085\", \"dataset\": \"5-year estimate\", \"geo_name\": \"Santa Clara County\", \"household_type\": \"multiracial\", \"lower_bound\": 108236.0, \"upper_bound\": 121892.0}]}}, {\"mode\": \"vega-lite\"});\n",
       "</script>"
      ],
      "text/plain": [
       "alt.LayerChart(...)"
      ]
     },
     "execution_count": 33,
     "metadata": {},
     "output_type": "execute_result"
    }
   ],
   "source": [
    "data['lower_bound'] = data['median_hh_income'] - data['margin_of_error']\n",
    "data['upper_bound'] = data['median_hh_income'] + data['margin_of_error']\n",
    "\n",
    "estimates = alt.Chart(\n",
    "    data\n",
    ").mark_point(\n",
    "    filled=True,\n",
    "    color='black'\n",
    ").encode(\n",
    "    alt.X('median_hh_income').scale(zero=False),\n",
    "    y='household_type' # swith Y axis to `household_type`\n",
    ")\n",
    "\n",
    "confidence_intervals = alt.Chart(\n",
    "    data\n",
    ").mark_errorbar(\n",
    "    color='red'\n",
    ").encode(\n",
    "    alt.X('upper_bound').scale(zero=False),\n",
    "    alt.X2('lower_bound'),\n",
    "    y='household_type'\n",
    ")\n",
    "\n",
    "(estimates + confidence_intervals).properties(height=150)"
   ]
  },
  {
   "cell_type": "markdown",
   "id": "cbd3bfae-7fd6-430d-aa28-9b47f7132da2",
   "metadata": {},
   "source": [
    "We can easily see the confidence interval for multiracial households is much larger than that for all households. However, since they do not overlap, we can safely make the following statement:\n",
    "\n",
    "> Multi-racial households earn less than the county's median income.\n",
    "\n",
    "## Downloading multiple geographic areas\n",
    "\n",
    "Often we don't want to look at a single county or state. We can easily download all states in the nation, or counties in a state using a property of the Python Census library - `Census.ALL`. This is exactly the same as using `'*'` which is traditionally viewed as a character to represent wildcards.\n",
    "\n",
    "### Download all states"
   ]
  },
  {
   "cell_type": "code",
   "execution_count": 34,
   "id": "58493e0b-e4d4-420b-9f61-aa4bb0e6a896",
   "metadata": {},
   "outputs": [
    {
     "data": {
      "text/plain": [
       "52"
      ]
     },
     "execution_count": 34,
     "metadata": {},
     "output_type": "execute_result"
    }
   ],
   "source": [
    "raw = client.acs5.state(field_codes, Census.ALL)\n",
    "len(raw)"
   ]
  },
  {
   "cell_type": "code",
   "execution_count": 35,
   "id": "41d6b00e-096d-4bb7-8ad5-91bbe6c1c58a",
   "metadata": {},
   "outputs": [
    {
     "data": {
      "text/html": [
       "<div>\n",
       "<style scoped>\n",
       "    .dataframe tbody tr th:only-of-type {\n",
       "        vertical-align: middle;\n",
       "    }\n",
       "\n",
       "    .dataframe tbody tr th {\n",
       "        vertical-align: top;\n",
       "    }\n",
       "\n",
       "    .dataframe thead th {\n",
       "        text-align: right;\n",
       "    }\n",
       "</style>\n",
       "<table border=\"1\" class=\"dataframe\">\n",
       "  <thead>\n",
       "    <tr style=\"text-align: right;\">\n",
       "      <th></th>\n",
       "      <th>median_hh_income</th>\n",
       "      <th>margin_of_error</th>\n",
       "      <th>state</th>\n",
       "    </tr>\n",
       "  </thead>\n",
       "  <tbody>\n",
       "    <tr>\n",
       "      <th>0</th>\n",
       "      <td>54943.0</td>\n",
       "      <td>377.0</td>\n",
       "      <td>01</td>\n",
       "    </tr>\n",
       "    <tr>\n",
       "      <th>1</th>\n",
       "      <td>80287.0</td>\n",
       "      <td>1113.0</td>\n",
       "      <td>02</td>\n",
       "    </tr>\n",
       "    <tr>\n",
       "      <th>2</th>\n",
       "      <td>65913.0</td>\n",
       "      <td>387.0</td>\n",
       "      <td>04</td>\n",
       "    </tr>\n",
       "    <tr>\n",
       "      <th>3</th>\n",
       "      <td>52123.0</td>\n",
       "      <td>458.0</td>\n",
       "      <td>05</td>\n",
       "    </tr>\n",
       "    <tr>\n",
       "      <th>4</th>\n",
       "      <td>84097.0</td>\n",
       "      <td>236.0</td>\n",
       "      <td>06</td>\n",
       "    </tr>\n",
       "  </tbody>\n",
       "</table>\n",
       "</div>"
      ],
      "text/plain": [
       "   median_hh_income  margin_of_error state\n",
       "0           54943.0            377.0    01\n",
       "1           80287.0           1113.0    02\n",
       "2           65913.0            387.0    04\n",
       "3           52123.0            458.0    05\n",
       "4           84097.0            236.0    06"
      ]
     },
     "execution_count": 35,
     "metadata": {},
     "output_type": "execute_result"
    }
   ],
   "source": [
    "data = pd.DataFrame(raw).rename(columns=fields)\n",
    "data.head()"
   ]
  },
  {
   "cell_type": "markdown",
   "id": "347d803a-058f-44dc-bb6c-6e4ab50429f3",
   "metadata": {},
   "source": [
    "We don't have state names with this data, only FIPS codes. We can easily use the crosswalk the Census Bureau provides. The crosswalk is a pipe-delimited text file we can load directly into Pandas without downloading."
   ]
  },
  {
   "cell_type": "code",
   "execution_count": 36,
   "id": "002cd084-386a-4ed6-8e92-05532bdc6932",
   "metadata": {},
   "outputs": [
    {
     "data": {
      "text/html": [
       "<div>\n",
       "<style scoped>\n",
       "    .dataframe tbody tr th:only-of-type {\n",
       "        vertical-align: middle;\n",
       "    }\n",
       "\n",
       "    .dataframe tbody tr th {\n",
       "        vertical-align: top;\n",
       "    }\n",
       "\n",
       "    .dataframe thead th {\n",
       "        text-align: right;\n",
       "    }\n",
       "</style>\n",
       "<table border=\"1\" class=\"dataframe\">\n",
       "  <thead>\n",
       "    <tr style=\"text-align: right;\">\n",
       "      <th></th>\n",
       "      <th>STATE</th>\n",
       "      <th>STATEFP</th>\n",
       "      <th>STATENS</th>\n",
       "      <th>STATE_NAME</th>\n",
       "    </tr>\n",
       "  </thead>\n",
       "  <tbody>\n",
       "    <tr>\n",
       "      <th>0</th>\n",
       "      <td>AL</td>\n",
       "      <td>01</td>\n",
       "      <td>01779775</td>\n",
       "      <td>Alabama</td>\n",
       "    </tr>\n",
       "    <tr>\n",
       "      <th>1</th>\n",
       "      <td>AK</td>\n",
       "      <td>02</td>\n",
       "      <td>01785533</td>\n",
       "      <td>Alaska</td>\n",
       "    </tr>\n",
       "    <tr>\n",
       "      <th>2</th>\n",
       "      <td>AZ</td>\n",
       "      <td>04</td>\n",
       "      <td>01779777</td>\n",
       "      <td>Arizona</td>\n",
       "    </tr>\n",
       "    <tr>\n",
       "      <th>3</th>\n",
       "      <td>AR</td>\n",
       "      <td>05</td>\n",
       "      <td>00068085</td>\n",
       "      <td>Arkansas</td>\n",
       "    </tr>\n",
       "    <tr>\n",
       "      <th>4</th>\n",
       "      <td>CA</td>\n",
       "      <td>06</td>\n",
       "      <td>01779778</td>\n",
       "      <td>California</td>\n",
       "    </tr>\n",
       "  </tbody>\n",
       "</table>\n",
       "</div>"
      ],
      "text/plain": [
       "  STATE STATEFP   STATENS  STATE_NAME\n",
       "0    AL      01  01779775     Alabama\n",
       "1    AK      02  01785533      Alaska\n",
       "2    AZ      04  01779777     Arizona\n",
       "3    AR      05  00068085    Arkansas\n",
       "4    CA      06  01779778  California"
      ]
     },
     "execution_count": 36,
     "metadata": {},
     "output_type": "execute_result"
    }
   ],
   "source": [
    "state_fips_url = 'https://www2.census.gov/geo/docs/reference/codes2020/national_state2020.txt'\n",
    "# Notice we specified `|` for the delimiter\n",
    "# We are also going to set the data type of all columns as a string \n",
    "# to keep leading zeroes in identifiers\n",
    "state_codes = pd.read_csv(state_fips_url, delimiter='|', dtype=str) \n",
    "state_codes.head()"
   ]
  },
  {
   "cell_type": "markdown",
   "id": "69b0da89-d383-49ab-b6b9-52c9c99527ba",
   "metadata": {},
   "source": [
    "Let's merge these together."
   ]
  },
  {
   "cell_type": "code",
   "execution_count": 37,
   "id": "18239024-9878-442b-acf6-be9087e8522d",
   "metadata": {},
   "outputs": [
    {
     "data": {
      "text/html": [
       "<div>\n",
       "<style scoped>\n",
       "    .dataframe tbody tr th:only-of-type {\n",
       "        vertical-align: middle;\n",
       "    }\n",
       "\n",
       "    .dataframe tbody tr th {\n",
       "        vertical-align: top;\n",
       "    }\n",
       "\n",
       "    .dataframe thead th {\n",
       "        text-align: right;\n",
       "    }\n",
       "</style>\n",
       "<table border=\"1\" class=\"dataframe\">\n",
       "  <thead>\n",
       "    <tr style=\"text-align: right;\">\n",
       "      <th></th>\n",
       "      <th>median_hh_income</th>\n",
       "      <th>margin_of_error</th>\n",
       "      <th>state</th>\n",
       "      <th>STATE</th>\n",
       "      <th>STATEFP</th>\n",
       "      <th>STATENS</th>\n",
       "      <th>STATE_NAME</th>\n",
       "    </tr>\n",
       "  </thead>\n",
       "  <tbody>\n",
       "    <tr>\n",
       "      <th>0</th>\n",
       "      <td>54943.0</td>\n",
       "      <td>377.0</td>\n",
       "      <td>01</td>\n",
       "      <td>AL</td>\n",
       "      <td>01</td>\n",
       "      <td>01779775</td>\n",
       "      <td>Alabama</td>\n",
       "    </tr>\n",
       "    <tr>\n",
       "      <th>1</th>\n",
       "      <td>80287.0</td>\n",
       "      <td>1113.0</td>\n",
       "      <td>02</td>\n",
       "      <td>AK</td>\n",
       "      <td>02</td>\n",
       "      <td>01785533</td>\n",
       "      <td>Alaska</td>\n",
       "    </tr>\n",
       "    <tr>\n",
       "      <th>2</th>\n",
       "      <td>65913.0</td>\n",
       "      <td>387.0</td>\n",
       "      <td>04</td>\n",
       "      <td>AZ</td>\n",
       "      <td>04</td>\n",
       "      <td>01779777</td>\n",
       "      <td>Arizona</td>\n",
       "    </tr>\n",
       "    <tr>\n",
       "      <th>3</th>\n",
       "      <td>52123.0</td>\n",
       "      <td>458.0</td>\n",
       "      <td>05</td>\n",
       "      <td>AR</td>\n",
       "      <td>05</td>\n",
       "      <td>00068085</td>\n",
       "      <td>Arkansas</td>\n",
       "    </tr>\n",
       "    <tr>\n",
       "      <th>4</th>\n",
       "      <td>84097.0</td>\n",
       "      <td>236.0</td>\n",
       "      <td>06</td>\n",
       "      <td>CA</td>\n",
       "      <td>06</td>\n",
       "      <td>01779778</td>\n",
       "      <td>California</td>\n",
       "    </tr>\n",
       "  </tbody>\n",
       "</table>\n",
       "</div>"
      ],
      "text/plain": [
       "   median_hh_income  margin_of_error state STATE STATEFP   STATENS  STATE_NAME\n",
       "0           54943.0            377.0    01    AL      01  01779775     Alabama\n",
       "1           80287.0           1113.0    02    AK      02  01785533      Alaska\n",
       "2           65913.0            387.0    04    AZ      04  01779777     Arizona\n",
       "3           52123.0            458.0    05    AR      05  00068085    Arkansas\n",
       "4           84097.0            236.0    06    CA      06  01779778  California"
      ]
     },
     "execution_count": 37,
     "metadata": {},
     "output_type": "execute_result"
    }
   ],
   "source": [
    "merged = data.merge(\n",
    "    state_codes,\n",
    "    how='left',\n",
    "    left_on='state',\n",
    "    right_on='STATEFP'\n",
    ")\n",
    "merged.head()"
   ]
  },
  {
   "cell_type": "markdown",
   "id": "127af45b-32f8-4b0d-9c59-cf1e12fca5a1",
   "metadata": {},
   "source": [
    "Great we can now write out our results to a file for later use."
   ]
  },
  {
   "cell_type": "code",
   "execution_count": 38,
   "id": "446756dc-b0e6-4790-b77b-a4d929a259c5",
   "metadata": {},
   "outputs": [],
   "source": [
    "merged.to_csv('./median_hh_income_states.csv', index=False)"
   ]
  },
  {
   "cell_type": "markdown",
   "id": "d0ab40ae-606a-4196-8041-a9e2d0bd2c13",
   "metadata": {},
   "source": [
    "### Download multiple counties\n",
    "\n",
    "The process is very similar to above, only we use the client's `state_county` method to get county-level data.\n",
    "\n",
    "#### For a single state"
   ]
  },
  {
   "cell_type": "code",
   "execution_count": 39,
   "id": "e2a402fc-5403-4d83-b697-50641b4af4c5",
   "metadata": {},
   "outputs": [
    {
     "data": {
      "text/plain": [
       "58"
      ]
     },
     "execution_count": 39,
     "metadata": {},
     "output_type": "execute_result"
    }
   ],
   "source": [
    "raw = client.acs5.state_county(field_codes, state_fips, Census.ALL)\n",
    "len(raw)"
   ]
  },
  {
   "cell_type": "markdown",
   "id": "5253862f-8fdb-4f63-902e-c19a07b91580",
   "metadata": {},
   "source": [
    "#### For all states"
   ]
  },
  {
   "cell_type": "code",
   "execution_count": 40,
   "id": "99cd074a-130f-4369-a682-6b9555f6db6f",
   "metadata": {},
   "outputs": [
    {
     "data": {
      "text/plain": [
       "3221"
      ]
     },
     "execution_count": 40,
     "metadata": {},
     "output_type": "execute_result"
    }
   ],
   "source": [
    "raw = client.acs5.state_county(field_codes, Census.ALL, Census.ALL)\n",
    "len(raw)"
   ]
  },
  {
   "cell_type": "code",
   "execution_count": 41,
   "id": "285ed38e-ed49-4255-b38e-942470dd9549",
   "metadata": {},
   "outputs": [
    {
     "data": {
      "text/html": [
       "<div>\n",
       "<style scoped>\n",
       "    .dataframe tbody tr th:only-of-type {\n",
       "        vertical-align: middle;\n",
       "    }\n",
       "\n",
       "    .dataframe tbody tr th {\n",
       "        vertical-align: top;\n",
       "    }\n",
       "\n",
       "    .dataframe thead th {\n",
       "        text-align: right;\n",
       "    }\n",
       "</style>\n",
       "<table border=\"1\" class=\"dataframe\">\n",
       "  <thead>\n",
       "    <tr style=\"text-align: right;\">\n",
       "      <th></th>\n",
       "      <th>median_hh_income</th>\n",
       "      <th>margin_of_error</th>\n",
       "      <th>state</th>\n",
       "      <th>county</th>\n",
       "    </tr>\n",
       "  </thead>\n",
       "  <tbody>\n",
       "    <tr>\n",
       "      <th>0</th>\n",
       "      <td>62660.0</td>\n",
       "      <td>4834.0</td>\n",
       "      <td>01</td>\n",
       "      <td>001</td>\n",
       "    </tr>\n",
       "    <tr>\n",
       "      <th>1</th>\n",
       "      <td>64346.0</td>\n",
       "      <td>2377.0</td>\n",
       "      <td>01</td>\n",
       "      <td>003</td>\n",
       "    </tr>\n",
       "    <tr>\n",
       "      <th>2</th>\n",
       "      <td>36422.0</td>\n",
       "      <td>3282.0</td>\n",
       "      <td>01</td>\n",
       "      <td>005</td>\n",
       "    </tr>\n",
       "    <tr>\n",
       "      <th>3</th>\n",
       "      <td>54277.0</td>\n",
       "      <td>7325.0</td>\n",
       "      <td>01</td>\n",
       "      <td>007</td>\n",
       "    </tr>\n",
       "    <tr>\n",
       "      <th>4</th>\n",
       "      <td>52830.0</td>\n",
       "      <td>3197.0</td>\n",
       "      <td>01</td>\n",
       "      <td>009</td>\n",
       "    </tr>\n",
       "    <tr>\n",
       "      <th>...</th>\n",
       "      <td>...</td>\n",
       "      <td>...</td>\n",
       "      <td>...</td>\n",
       "      <td>...</td>\n",
       "    </tr>\n",
       "    <tr>\n",
       "      <th>3216</th>\n",
       "      <td>21507.0</td>\n",
       "      <td>1165.0</td>\n",
       "      <td>72</td>\n",
       "      <td>145</td>\n",
       "    </tr>\n",
       "    <tr>\n",
       "      <th>3217</th>\n",
       "      <td>14942.0</td>\n",
       "      <td>2258.0</td>\n",
       "      <td>72</td>\n",
       "      <td>147</td>\n",
       "    </tr>\n",
       "    <tr>\n",
       "      <th>3218</th>\n",
       "      <td>20722.0</td>\n",
       "      <td>1975.0</td>\n",
       "      <td>72</td>\n",
       "      <td>149</td>\n",
       "    </tr>\n",
       "    <tr>\n",
       "      <th>3219</th>\n",
       "      <td>17267.0</td>\n",
       "      <td>1475.0</td>\n",
       "      <td>72</td>\n",
       "      <td>151</td>\n",
       "    </tr>\n",
       "    <tr>\n",
       "      <th>3220</th>\n",
       "      <td>16444.0</td>\n",
       "      <td>1380.0</td>\n",
       "      <td>72</td>\n",
       "      <td>153</td>\n",
       "    </tr>\n",
       "  </tbody>\n",
       "</table>\n",
       "<p>3221 rows × 4 columns</p>\n",
       "</div>"
      ],
      "text/plain": [
       "      median_hh_income  margin_of_error state county\n",
       "0              62660.0           4834.0    01    001\n",
       "1              64346.0           2377.0    01    003\n",
       "2              36422.0           3282.0    01    005\n",
       "3              54277.0           7325.0    01    007\n",
       "4              52830.0           3197.0    01    009\n",
       "...                ...              ...   ...    ...\n",
       "3216           21507.0           1165.0    72    145\n",
       "3217           14942.0           2258.0    72    147\n",
       "3218           20722.0           1975.0    72    149\n",
       "3219           17267.0           1475.0    72    151\n",
       "3220           16444.0           1380.0    72    153\n",
       "\n",
       "[3221 rows x 4 columns]"
      ]
     },
     "execution_count": 41,
     "metadata": {},
     "output_type": "execute_result"
    }
   ],
   "source": [
    "data = pd.DataFrame(raw).rename(columns=fields)\n",
    "data"
   ]
  },
  {
   "cell_type": "markdown",
   "id": "efdcb2de-a713-4a02-8b3f-86be9e32a1c2",
   "metadata": {},
   "source": [
    "#### Add county names\n",
    "\n",
    "We can also use FIPS codes to add county and state names. We will use a different dataset this time that includes county FIPS codes."
   ]
  },
  {
   "cell_type": "code",
   "execution_count": 42,
   "id": "58b1c903-6012-4727-be05-65e61f64e638",
   "metadata": {},
   "outputs": [
    {
     "data": {
      "text/html": [
       "<div>\n",
       "<style scoped>\n",
       "    .dataframe tbody tr th:only-of-type {\n",
       "        vertical-align: middle;\n",
       "    }\n",
       "\n",
       "    .dataframe tbody tr th {\n",
       "        vertical-align: top;\n",
       "    }\n",
       "\n",
       "    .dataframe thead th {\n",
       "        text-align: right;\n",
       "    }\n",
       "</style>\n",
       "<table border=\"1\" class=\"dataframe\">\n",
       "  <thead>\n",
       "    <tr style=\"text-align: right;\">\n",
       "      <th></th>\n",
       "      <th>STATE</th>\n",
       "      <th>STATEFP</th>\n",
       "      <th>COUNTYFP</th>\n",
       "      <th>COUNTYNS</th>\n",
       "      <th>COUNTYNAME</th>\n",
       "      <th>CLASSFP</th>\n",
       "      <th>FUNCSTAT</th>\n",
       "    </tr>\n",
       "  </thead>\n",
       "  <tbody>\n",
       "    <tr>\n",
       "      <th>0</th>\n",
       "      <td>AL</td>\n",
       "      <td>01</td>\n",
       "      <td>001</td>\n",
       "      <td>00161526</td>\n",
       "      <td>Autauga County</td>\n",
       "      <td>H1</td>\n",
       "      <td>A</td>\n",
       "    </tr>\n",
       "    <tr>\n",
       "      <th>1</th>\n",
       "      <td>AL</td>\n",
       "      <td>01</td>\n",
       "      <td>003</td>\n",
       "      <td>00161527</td>\n",
       "      <td>Baldwin County</td>\n",
       "      <td>H1</td>\n",
       "      <td>A</td>\n",
       "    </tr>\n",
       "    <tr>\n",
       "      <th>2</th>\n",
       "      <td>AL</td>\n",
       "      <td>01</td>\n",
       "      <td>005</td>\n",
       "      <td>00161528</td>\n",
       "      <td>Barbour County</td>\n",
       "      <td>H1</td>\n",
       "      <td>A</td>\n",
       "    </tr>\n",
       "    <tr>\n",
       "      <th>3</th>\n",
       "      <td>AL</td>\n",
       "      <td>01</td>\n",
       "      <td>007</td>\n",
       "      <td>00161529</td>\n",
       "      <td>Bibb County</td>\n",
       "      <td>H1</td>\n",
       "      <td>A</td>\n",
       "    </tr>\n",
       "    <tr>\n",
       "      <th>4</th>\n",
       "      <td>AL</td>\n",
       "      <td>01</td>\n",
       "      <td>009</td>\n",
       "      <td>00161530</td>\n",
       "      <td>Blount County</td>\n",
       "      <td>H1</td>\n",
       "      <td>A</td>\n",
       "    </tr>\n",
       "    <tr>\n",
       "      <th>...</th>\n",
       "      <td>...</td>\n",
       "      <td>...</td>\n",
       "      <td>...</td>\n",
       "      <td>...</td>\n",
       "      <td>...</td>\n",
       "      <td>...</td>\n",
       "      <td>...</td>\n",
       "    </tr>\n",
       "    <tr>\n",
       "      <th>3230</th>\n",
       "      <td>PR</td>\n",
       "      <td>72</td>\n",
       "      <td>153</td>\n",
       "      <td>01804557</td>\n",
       "      <td>Yauco Municipio</td>\n",
       "      <td>H1</td>\n",
       "      <td>A</td>\n",
       "    </tr>\n",
       "    <tr>\n",
       "      <th>3231</th>\n",
       "      <td>UM</td>\n",
       "      <td>74</td>\n",
       "      <td>300</td>\n",
       "      <td>01802699</td>\n",
       "      <td>Midway Islands</td>\n",
       "      <td>H4</td>\n",
       "      <td>N</td>\n",
       "    </tr>\n",
       "    <tr>\n",
       "      <th>3232</th>\n",
       "      <td>VI</td>\n",
       "      <td>78</td>\n",
       "      <td>010</td>\n",
       "      <td>02378248</td>\n",
       "      <td>St. Croix Island</td>\n",
       "      <td>H4</td>\n",
       "      <td>N</td>\n",
       "    </tr>\n",
       "    <tr>\n",
       "      <th>3233</th>\n",
       "      <td>VI</td>\n",
       "      <td>78</td>\n",
       "      <td>020</td>\n",
       "      <td>02378249</td>\n",
       "      <td>St. John Island</td>\n",
       "      <td>H4</td>\n",
       "      <td>N</td>\n",
       "    </tr>\n",
       "    <tr>\n",
       "      <th>3234</th>\n",
       "      <td>VI</td>\n",
       "      <td>78</td>\n",
       "      <td>030</td>\n",
       "      <td>02378250</td>\n",
       "      <td>St. Thomas Island</td>\n",
       "      <td>H4</td>\n",
       "      <td>N</td>\n",
       "    </tr>\n",
       "  </tbody>\n",
       "</table>\n",
       "<p>3235 rows × 7 columns</p>\n",
       "</div>"
      ],
      "text/plain": [
       "     STATE STATEFP COUNTYFP  COUNTYNS         COUNTYNAME CLASSFP FUNCSTAT\n",
       "0       AL      01      001  00161526     Autauga County      H1        A\n",
       "1       AL      01      003  00161527     Baldwin County      H1        A\n",
       "2       AL      01      005  00161528     Barbour County      H1        A\n",
       "3       AL      01      007  00161529        Bibb County      H1        A\n",
       "4       AL      01      009  00161530      Blount County      H1        A\n",
       "...    ...     ...      ...       ...                ...     ...      ...\n",
       "3230    PR      72      153  01804557    Yauco Municipio      H1        A\n",
       "3231    UM      74      300  01802699     Midway Islands      H4        N\n",
       "3232    VI      78      010  02378248   St. Croix Island      H4        N\n",
       "3233    VI      78      020  02378249    St. John Island      H4        N\n",
       "3234    VI      78      030  02378250  St. Thomas Island      H4        N\n",
       "\n",
       "[3235 rows x 7 columns]"
      ]
     },
     "execution_count": 42,
     "metadata": {},
     "output_type": "execute_result"
    }
   ],
   "source": [
    "county_fips_url = 'https://www2.census.gov/geo/docs/reference/codes2020/national_county2020.txt'\n",
    "county_codes = pd.read_csv(county_fips_url, delimiter='|', dtype=str)\n",
    "county_codes"
   ]
  },
  {
   "cell_type": "markdown",
   "id": "71a555eb-0992-44d0-81c9-68a1d3cabf9f",
   "metadata": {},
   "source": [
    "County FIPS codes are unique within a state, but not nationally. So we need to include both state and county FIPS codes when joining the data."
   ]
  },
  {
   "cell_type": "code",
   "execution_count": 43,
   "id": "72f274d9-6538-4be5-9235-88828a32e82c",
   "metadata": {},
   "outputs": [
    {
     "data": {
      "text/html": [
       "<div>\n",
       "<style scoped>\n",
       "    .dataframe tbody tr th:only-of-type {\n",
       "        vertical-align: middle;\n",
       "    }\n",
       "\n",
       "    .dataframe tbody tr th {\n",
       "        vertical-align: top;\n",
       "    }\n",
       "\n",
       "    .dataframe thead th {\n",
       "        text-align: right;\n",
       "    }\n",
       "</style>\n",
       "<table border=\"1\" class=\"dataframe\">\n",
       "  <thead>\n",
       "    <tr style=\"text-align: right;\">\n",
       "      <th></th>\n",
       "      <th>median_hh_income</th>\n",
       "      <th>margin_of_error</th>\n",
       "      <th>state</th>\n",
       "      <th>county</th>\n",
       "      <th>geoid</th>\n",
       "    </tr>\n",
       "  </thead>\n",
       "  <tbody>\n",
       "    <tr>\n",
       "      <th>0</th>\n",
       "      <td>62660.0</td>\n",
       "      <td>4834.0</td>\n",
       "      <td>01</td>\n",
       "      <td>001</td>\n",
       "      <td>01001</td>\n",
       "    </tr>\n",
       "    <tr>\n",
       "      <th>1</th>\n",
       "      <td>64346.0</td>\n",
       "      <td>2377.0</td>\n",
       "      <td>01</td>\n",
       "      <td>003</td>\n",
       "      <td>01003</td>\n",
       "    </tr>\n",
       "    <tr>\n",
       "      <th>2</th>\n",
       "      <td>36422.0</td>\n",
       "      <td>3282.0</td>\n",
       "      <td>01</td>\n",
       "      <td>005</td>\n",
       "      <td>01005</td>\n",
       "    </tr>\n",
       "    <tr>\n",
       "      <th>3</th>\n",
       "      <td>54277.0</td>\n",
       "      <td>7325.0</td>\n",
       "      <td>01</td>\n",
       "      <td>007</td>\n",
       "      <td>01007</td>\n",
       "    </tr>\n",
       "    <tr>\n",
       "      <th>4</th>\n",
       "      <td>52830.0</td>\n",
       "      <td>3197.0</td>\n",
       "      <td>01</td>\n",
       "      <td>009</td>\n",
       "      <td>01009</td>\n",
       "    </tr>\n",
       "  </tbody>\n",
       "</table>\n",
       "</div>"
      ],
      "text/plain": [
       "   median_hh_income  margin_of_error state county  geoid\n",
       "0           62660.0           4834.0    01    001  01001\n",
       "1           64346.0           2377.0    01    003  01003\n",
       "2           36422.0           3282.0    01    005  01005\n",
       "3           54277.0           7325.0    01    007  01007\n",
       "4           52830.0           3197.0    01    009  01009"
      ]
     },
     "execution_count": 43,
     "metadata": {},
     "output_type": "execute_result"
    }
   ],
   "source": [
    "data['geoid'] = data['state'] + data['county']\n",
    "data.head()"
   ]
  },
  {
   "cell_type": "code",
   "execution_count": 44,
   "id": "859c7ddb-14c7-4cfe-8982-81bd41cd0df2",
   "metadata": {},
   "outputs": [
    {
     "data": {
      "text/html": [
       "<div>\n",
       "<style scoped>\n",
       "    .dataframe tbody tr th:only-of-type {\n",
       "        vertical-align: middle;\n",
       "    }\n",
       "\n",
       "    .dataframe tbody tr th {\n",
       "        vertical-align: top;\n",
       "    }\n",
       "\n",
       "    .dataframe thead th {\n",
       "        text-align: right;\n",
       "    }\n",
       "</style>\n",
       "<table border=\"1\" class=\"dataframe\">\n",
       "  <thead>\n",
       "    <tr style=\"text-align: right;\">\n",
       "      <th></th>\n",
       "      <th>STATE</th>\n",
       "      <th>STATEFP</th>\n",
       "      <th>COUNTYFP</th>\n",
       "      <th>COUNTYNS</th>\n",
       "      <th>COUNTYNAME</th>\n",
       "      <th>CLASSFP</th>\n",
       "      <th>FUNCSTAT</th>\n",
       "      <th>geoid</th>\n",
       "    </tr>\n",
       "  </thead>\n",
       "  <tbody>\n",
       "    <tr>\n",
       "      <th>0</th>\n",
       "      <td>AL</td>\n",
       "      <td>01</td>\n",
       "      <td>001</td>\n",
       "      <td>00161526</td>\n",
       "      <td>Autauga County</td>\n",
       "      <td>H1</td>\n",
       "      <td>A</td>\n",
       "      <td>01001</td>\n",
       "    </tr>\n",
       "    <tr>\n",
       "      <th>1</th>\n",
       "      <td>AL</td>\n",
       "      <td>01</td>\n",
       "      <td>003</td>\n",
       "      <td>00161527</td>\n",
       "      <td>Baldwin County</td>\n",
       "      <td>H1</td>\n",
       "      <td>A</td>\n",
       "      <td>01003</td>\n",
       "    </tr>\n",
       "    <tr>\n",
       "      <th>2</th>\n",
       "      <td>AL</td>\n",
       "      <td>01</td>\n",
       "      <td>005</td>\n",
       "      <td>00161528</td>\n",
       "      <td>Barbour County</td>\n",
       "      <td>H1</td>\n",
       "      <td>A</td>\n",
       "      <td>01005</td>\n",
       "    </tr>\n",
       "    <tr>\n",
       "      <th>3</th>\n",
       "      <td>AL</td>\n",
       "      <td>01</td>\n",
       "      <td>007</td>\n",
       "      <td>00161529</td>\n",
       "      <td>Bibb County</td>\n",
       "      <td>H1</td>\n",
       "      <td>A</td>\n",
       "      <td>01007</td>\n",
       "    </tr>\n",
       "    <tr>\n",
       "      <th>4</th>\n",
       "      <td>AL</td>\n",
       "      <td>01</td>\n",
       "      <td>009</td>\n",
       "      <td>00161530</td>\n",
       "      <td>Blount County</td>\n",
       "      <td>H1</td>\n",
       "      <td>A</td>\n",
       "      <td>01009</td>\n",
       "    </tr>\n",
       "    <tr>\n",
       "      <th>...</th>\n",
       "      <td>...</td>\n",
       "      <td>...</td>\n",
       "      <td>...</td>\n",
       "      <td>...</td>\n",
       "      <td>...</td>\n",
       "      <td>...</td>\n",
       "      <td>...</td>\n",
       "      <td>...</td>\n",
       "    </tr>\n",
       "    <tr>\n",
       "      <th>3230</th>\n",
       "      <td>PR</td>\n",
       "      <td>72</td>\n",
       "      <td>153</td>\n",
       "      <td>01804557</td>\n",
       "      <td>Yauco Municipio</td>\n",
       "      <td>H1</td>\n",
       "      <td>A</td>\n",
       "      <td>72153</td>\n",
       "    </tr>\n",
       "    <tr>\n",
       "      <th>3231</th>\n",
       "      <td>UM</td>\n",
       "      <td>74</td>\n",
       "      <td>300</td>\n",
       "      <td>01802699</td>\n",
       "      <td>Midway Islands</td>\n",
       "      <td>H4</td>\n",
       "      <td>N</td>\n",
       "      <td>74300</td>\n",
       "    </tr>\n",
       "    <tr>\n",
       "      <th>3232</th>\n",
       "      <td>VI</td>\n",
       "      <td>78</td>\n",
       "      <td>010</td>\n",
       "      <td>02378248</td>\n",
       "      <td>St. Croix Island</td>\n",
       "      <td>H4</td>\n",
       "      <td>N</td>\n",
       "      <td>78010</td>\n",
       "    </tr>\n",
       "    <tr>\n",
       "      <th>3233</th>\n",
       "      <td>VI</td>\n",
       "      <td>78</td>\n",
       "      <td>020</td>\n",
       "      <td>02378249</td>\n",
       "      <td>St. John Island</td>\n",
       "      <td>H4</td>\n",
       "      <td>N</td>\n",
       "      <td>78020</td>\n",
       "    </tr>\n",
       "    <tr>\n",
       "      <th>3234</th>\n",
       "      <td>VI</td>\n",
       "      <td>78</td>\n",
       "      <td>030</td>\n",
       "      <td>02378250</td>\n",
       "      <td>St. Thomas Island</td>\n",
       "      <td>H4</td>\n",
       "      <td>N</td>\n",
       "      <td>78030</td>\n",
       "    </tr>\n",
       "  </tbody>\n",
       "</table>\n",
       "<p>3235 rows × 8 columns</p>\n",
       "</div>"
      ],
      "text/plain": [
       "     STATE STATEFP COUNTYFP  COUNTYNS         COUNTYNAME CLASSFP FUNCSTAT  \\\n",
       "0       AL      01      001  00161526     Autauga County      H1        A   \n",
       "1       AL      01      003  00161527     Baldwin County      H1        A   \n",
       "2       AL      01      005  00161528     Barbour County      H1        A   \n",
       "3       AL      01      007  00161529        Bibb County      H1        A   \n",
       "4       AL      01      009  00161530      Blount County      H1        A   \n",
       "...    ...     ...      ...       ...                ...     ...      ...   \n",
       "3230    PR      72      153  01804557    Yauco Municipio      H1        A   \n",
       "3231    UM      74      300  01802699     Midway Islands      H4        N   \n",
       "3232    VI      78      010  02378248   St. Croix Island      H4        N   \n",
       "3233    VI      78      020  02378249    St. John Island      H4        N   \n",
       "3234    VI      78      030  02378250  St. Thomas Island      H4        N   \n",
       "\n",
       "      geoid  \n",
       "0     01001  \n",
       "1     01003  \n",
       "2     01005  \n",
       "3     01007  \n",
       "4     01009  \n",
       "...     ...  \n",
       "3230  72153  \n",
       "3231  74300  \n",
       "3232  78010  \n",
       "3233  78020  \n",
       "3234  78030  \n",
       "\n",
       "[3235 rows x 8 columns]"
      ]
     },
     "execution_count": 44,
     "metadata": {},
     "output_type": "execute_result"
    }
   ],
   "source": [
    "county_codes['geoid'] = county_codes['STATEFP'] + county_codes['COUNTYFP']\n",
    "county_codes"
   ]
  },
  {
   "cell_type": "markdown",
   "id": "0a60a81c-179f-4014-93a7-17b2d696630f",
   "metadata": {},
   "source": [
    "Now we can join the two dataframes as we did above using the `geoid` columns we just created."
   ]
  },
  {
   "cell_type": "code",
   "execution_count": 45,
   "id": "8ae50f9e-171d-4ee6-ad17-1a1a48ee5b63",
   "metadata": {},
   "outputs": [
    {
     "data": {
      "text/html": [
       "<div>\n",
       "<style scoped>\n",
       "    .dataframe tbody tr th:only-of-type {\n",
       "        vertical-align: middle;\n",
       "    }\n",
       "\n",
       "    .dataframe tbody tr th {\n",
       "        vertical-align: top;\n",
       "    }\n",
       "\n",
       "    .dataframe thead th {\n",
       "        text-align: right;\n",
       "    }\n",
       "</style>\n",
       "<table border=\"1\" class=\"dataframe\">\n",
       "  <thead>\n",
       "    <tr style=\"text-align: right;\">\n",
       "      <th></th>\n",
       "      <th>median_hh_income</th>\n",
       "      <th>margin_of_error</th>\n",
       "      <th>state</th>\n",
       "      <th>county</th>\n",
       "      <th>geoid</th>\n",
       "      <th>STATE</th>\n",
       "      <th>STATEFP</th>\n",
       "      <th>COUNTYFP</th>\n",
       "      <th>COUNTYNS</th>\n",
       "      <th>COUNTYNAME</th>\n",
       "      <th>CLASSFP</th>\n",
       "      <th>FUNCSTAT</th>\n",
       "    </tr>\n",
       "  </thead>\n",
       "  <tbody>\n",
       "    <tr>\n",
       "      <th>0</th>\n",
       "      <td>62660.0</td>\n",
       "      <td>4834.0</td>\n",
       "      <td>01</td>\n",
       "      <td>001</td>\n",
       "      <td>01001</td>\n",
       "      <td>AL</td>\n",
       "      <td>01</td>\n",
       "      <td>001</td>\n",
       "      <td>00161526</td>\n",
       "      <td>Autauga County</td>\n",
       "      <td>H1</td>\n",
       "      <td>A</td>\n",
       "    </tr>\n",
       "    <tr>\n",
       "      <th>1</th>\n",
       "      <td>64346.0</td>\n",
       "      <td>2377.0</td>\n",
       "      <td>01</td>\n",
       "      <td>003</td>\n",
       "      <td>01003</td>\n",
       "      <td>AL</td>\n",
       "      <td>01</td>\n",
       "      <td>003</td>\n",
       "      <td>00161527</td>\n",
       "      <td>Baldwin County</td>\n",
       "      <td>H1</td>\n",
       "      <td>A</td>\n",
       "    </tr>\n",
       "    <tr>\n",
       "      <th>2</th>\n",
       "      <td>36422.0</td>\n",
       "      <td>3282.0</td>\n",
       "      <td>01</td>\n",
       "      <td>005</td>\n",
       "      <td>01005</td>\n",
       "      <td>AL</td>\n",
       "      <td>01</td>\n",
       "      <td>005</td>\n",
       "      <td>00161528</td>\n",
       "      <td>Barbour County</td>\n",
       "      <td>H1</td>\n",
       "      <td>A</td>\n",
       "    </tr>\n",
       "    <tr>\n",
       "      <th>3</th>\n",
       "      <td>54277.0</td>\n",
       "      <td>7325.0</td>\n",
       "      <td>01</td>\n",
       "      <td>007</td>\n",
       "      <td>01007</td>\n",
       "      <td>AL</td>\n",
       "      <td>01</td>\n",
       "      <td>007</td>\n",
       "      <td>00161529</td>\n",
       "      <td>Bibb County</td>\n",
       "      <td>H1</td>\n",
       "      <td>A</td>\n",
       "    </tr>\n",
       "    <tr>\n",
       "      <th>4</th>\n",
       "      <td>52830.0</td>\n",
       "      <td>3197.0</td>\n",
       "      <td>01</td>\n",
       "      <td>009</td>\n",
       "      <td>01009</td>\n",
       "      <td>AL</td>\n",
       "      <td>01</td>\n",
       "      <td>009</td>\n",
       "      <td>00161530</td>\n",
       "      <td>Blount County</td>\n",
       "      <td>H1</td>\n",
       "      <td>A</td>\n",
       "    </tr>\n",
       "  </tbody>\n",
       "</table>\n",
       "</div>"
      ],
      "text/plain": [
       "   median_hh_income  margin_of_error state county  geoid STATE STATEFP  \\\n",
       "0           62660.0           4834.0    01    001  01001    AL      01   \n",
       "1           64346.0           2377.0    01    003  01003    AL      01   \n",
       "2           36422.0           3282.0    01    005  01005    AL      01   \n",
       "3           54277.0           7325.0    01    007  01007    AL      01   \n",
       "4           52830.0           3197.0    01    009  01009    AL      01   \n",
       "\n",
       "  COUNTYFP  COUNTYNS      COUNTYNAME CLASSFP FUNCSTAT  \n",
       "0      001  00161526  Autauga County      H1        A  \n",
       "1      003  00161527  Baldwin County      H1        A  \n",
       "2      005  00161528  Barbour County      H1        A  \n",
       "3      007  00161529     Bibb County      H1        A  \n",
       "4      009  00161530   Blount County      H1        A  "
      ]
     },
     "execution_count": 45,
     "metadata": {},
     "output_type": "execute_result"
    }
   ],
   "source": [
    "merged = data.merge(\n",
    "    county_codes,\n",
    "    how='left',\n",
    "    on='geoid'\n",
    ")\n",
    "merged.head()"
   ]
  },
  {
   "cell_type": "markdown",
   "id": "6cc0744c-4a72-492f-aed3-53dc1e4ce0bd",
   "metadata": {},
   "source": [
    "And once again write out our data:"
   ]
  },
  {
   "cell_type": "code",
   "execution_count": 46,
   "id": "eafa3fbe-7c72-41a5-9405-0be6f858529c",
   "metadata": {},
   "outputs": [],
   "source": [
    "merged.to_csv('./median_hh_income_counties.csv', index=False)"
   ]
  },
  {
   "cell_type": "code",
   "execution_count": null,
   "id": "074346c4-cb96-4a7c-ae5e-27e12334f6bf",
   "metadata": {},
   "outputs": [],
   "source": []
  }
 ],
 "metadata": {
  "kernelspec": {
   "display_name": "Python 3 (ipykernel)",
   "language": "python",
   "name": "python3"
  },
  "language_info": {
   "codemirror_mode": {
    "name": "ipython",
    "version": 3
   },
   "file_extension": ".py",
   "mimetype": "text/x-python",
   "name": "python",
   "nbconvert_exporter": "python",
   "pygments_lexer": "ipython3",
   "version": "3.11.6"
  }
 },
 "nbformat": 4,
 "nbformat_minor": 5
}
