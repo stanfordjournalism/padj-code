{
 "cells": [
  {
   "cell_type": "markdown",
   "id": "a8f76f42-de33-47a3-85b7-6f8dfc1cd8db",
   "metadata": {},
   "source": [
    "# Accessing Census data with Python\n",
    "\n",
    "This notebook walks you through the process of getting data using Datamade's [census library for Python](https://github.com/datamade/census). At the same time we will introduce you to the concept of uncertainty in sample data and how to work with it.\n",
    "\n",
    "## Importing the tools we need to work with data\n",
    "First we import the libraries we are going to use to get data and analyze it. We are using three main libraries:\n",
    "- **[Pandas:](https://pandas.pydata.org/)** The toolkit we use to conduct data analysis\n",
    "- **[Census:](https://github.com/datamade/census)** This library makes it easier to access Census data through the API.\n",
    "- **[Altair:](https://altair-viz.github.io/)** This library is used to create data visualizations using data in Pandas.\n",
    "\n",
    "We also need to import the API key so we can use the Census API."
   ]
  },
  {
   "cell_type": "code",
   "execution_count": 32,
   "id": "65ef3c89-188e-41aa-bc52-4a34c391ec33",
   "metadata": {},
   "outputs": [],
   "source": [
    "import altair as alt\n",
    "from census import Census\n",
    "import pandas as pd\n",
    "\n",
    "from census_api_key import KEY"
   ]
  },
  {
   "cell_type": "markdown",
   "id": "06cc8a19-d0a4-40ee-8921-38dd66db1167",
   "metadata": {},
   "source": [
    "## Starting the Census client\n",
    "\n",
    "Next we need to initialize the client to download data. The client only needs one bit of information from you in order to work - your Census API key."
   ]
  },
  {
   "cell_type": "code",
   "execution_count": 33,
   "id": "7ac4d388-7910-4c91-a511-0701215d491d",
   "metadata": {},
   "outputs": [],
   "source": [
    "client = Census(KEY)"
   ]
  },
  {
   "cell_type": "markdown",
   "id": "d57dbbde-08f2-4196-a4eb-f95a7aed42cd",
   "metadata": {},
   "source": [
    "## Using the client to search for data\n",
    "\n",
    "The client has functionality built in to list all the tables associated with a given dataset. In this example, we want to look at the median household income in Santa Clara County using 1-year estimates from the American Community Survey.\n",
    "\n",
    "You can list all the tables using the following syntax:"
   ]
  },
  {
   "cell_type": "code",
   "execution_count": null,
   "id": "6480500f-4642-410f-b2cc-f01f2e4781a5",
   "metadata": {},
   "outputs": [],
   "source": [
    "tables = client.acs1.tables()\n",
    "# show the number of tables\n",
    "len(tables)"
   ]
  },
  {
   "cell_type": "code",
   "execution_count": null,
   "id": "d78d80f5-9907-4e2c-866b-3c6b8dc4743b",
   "metadata": {},
   "outputs": [],
   "source": [
    "# showing the first 5 tables\n",
    "tables[:5]"
   ]
  },
  {
   "cell_type": "markdown",
   "id": "2d654f96-f642-4e22-a844-eac5f344b674",
   "metadata": {},
   "source": [
    "The result is a list of tables, each one with it's own dictionary:\n",
    "- **name:** This is the table ID, an important bit of information needed to download data through the API.\n",
    "- **description:** A human-readable description of the table.\n",
    "- **variables:** A url pointing to the variable definitions for the table.\n",
    "- **universe:** The universe the ACS estimates are based on.\n",
    "\n",
    "We can use **name** to find our data easily. The first letter of the table ID describes the type of table.\n",
    "We oftenly use tables starting with the letter `B` - basic, detailed tables. Next we need to find the tables associated with income. The first two digits after the letter in the table ID identify the subject. For income those numbers are `19`. A full listing of subjects and their numbers can be found [here](https://www.census.gov/programs-surveys/acs/data/data-tables/table-ids-explained.html). A [spreadsheet listing all tables](https://www2.census.gov/programs-surveys/acs/tech_docs/table_shells/table_lists/2022_DataProductList.xlsx) is also available.\n",
    "\n",
    "For now let's find all tables related to income:"
   ]
  },
  {
   "cell_type": "code",
   "execution_count": null,
   "id": "5891b039-5b96-479c-9523-1ecb2f9442ec",
   "metadata": {},
   "outputs": [],
   "source": [
    "income_tables = []\n",
    "\n",
    "for table in client.acs1.tables():\n",
    "    if table['name'].startswith('B19'):\n",
    "        income_tables.append(table)\n",
    "\n",
    "len(income_tables)"
   ]
  },
  {
   "cell_type": "markdown",
   "id": "b3e56563-b08b-49d9-b769-aee87198d5a2",
   "metadata": {},
   "source": [
    "There are more than 100 tables related to income, still too many to list here. Let's refine our search a bit more, but let's print out some information instead of storing it in a list:"
   ]
  },
  {
   "cell_type": "code",
   "execution_count": null,
   "id": "bdc039ea-1b55-40a7-b319-aea4e9c4bf8b",
   "metadata": {},
   "outputs": [],
   "source": [
    "for table in client.acs1.tables():\n",
    "    if table['name'].startswith('B19') and 'MEDIAN HOUSEHOLD' in table['description'].upper():\n",
    "        print(table['name'], table['description'])"
   ]
  },
  {
   "cell_type": "markdown",
   "id": "9413fd31-253f-4337-8de9-053db3ed5e7a",
   "metadata": {},
   "source": [
    "Much better. It may be hard to see, but the table we want is in there with a table ID of **B19013**.\n",
    "Now we want to look at the variables within the table, using the url that is listed in the data. However, the url points to a JSON object containing the variables. We want it in HTML for easier reading. This can be done pretty easily in Python:"
   ]
  },
  {
   "cell_type": "code",
   "execution_count": null,
   "id": "e655ea21-8dcc-4ab6-8b34-68fe8af60e45",
   "metadata": {},
   "outputs": [],
   "source": [
    "for table in client.acs1.tables():\n",
    "    if table['name'] == 'B19013':\n",
    "        url = table['variables']\n",
    "        print(url.replace('json', 'html'))"
   ]
  },
  {
   "cell_type": "markdown",
   "id": "8233423c-4cb0-4921-9345-7aefefc0ebab",
   "metadata": {},
   "source": [
    "Click on the link to view the variables. You will notice the table IDs now have some extra characters at the end. They all now have `_001` which identifies the column. The letters at the end define the type of measure. We are only interested in those that end in `E` for estimate and `M` for margin of error.\n",
    "## Downloading data\n",
    "So now let's define a few things to make it easier for us to query the API and download the relevant data:"
   ]
  },
  {
   "cell_type": "code",
   "execution_count": 40,
   "id": "63437b14-c132-4df6-a571-8c8a45a0b32c",
   "metadata": {},
   "outputs": [],
   "source": [
    "state_fips = '06' # California state FIPS code\n",
    "county_fips = '085' # FIPS code for Santa Clara County"
   ]
  },
  {
   "cell_type": "markdown",
   "id": "13b4840e-cee7-4fe0-a82d-2da371e44367",
   "metadata": {},
   "source": [
    "We also need to specify what fields we want to download from the table we've identified. I like to do this in a dictionary where the keys are the variable IDs and the values are human-readable names of the variables. I do this so I can easily see what these are in my code and to make renaming columns easier later on."
   ]
  },
  {
   "cell_type": "code",
   "execution_count": 41,
   "id": "2891a726-70e3-4e1e-aac1-4a7703e86bb9",
   "metadata": {},
   "outputs": [],
   "source": [
    "fields = {\n",
    "    'B19013_001E': 'median_hh_income',\n",
    "    'B19013_001M': 'margin_of_error',\n",
    "}\n",
    "# I also create a list of the variable IDs to give to the Census client\n",
    "field_codes = list(fields.keys())"
   ]
  },
  {
   "cell_type": "markdown",
   "id": "57740cf1-302a-4433-92c6-f0b71277e5bb",
   "metadata": {},
   "source": [
    "We want to use the client's `state_county` function to download the appropriate data. It takes three arguments - the fields we want to download, the state FIPS code and the county FIPS code."
   ]
  },
  {
   "cell_type": "code",
   "execution_count": null,
   "id": "4616d754-3697-4746-94fa-ae4e4df3a60b",
   "metadata": {},
   "outputs": [],
   "source": [
    "county_data = client.acs1.state_county(field_codes, state_fips, county_fips)\n",
    "county_data"
   ]
  },
  {
   "cell_type": "markdown",
   "id": "6c0255a3-24f8-4f1d-a5b2-eaa17cc5b493",
   "metadata": {},
   "source": [
    "We now have a list containing a dictionary with our estimates. Let's add a bit more metadata to this. This is not necessary, we are doing it so we can do some analysis later on."
   ]
  },
  {
   "cell_type": "code",
   "execution_count": null,
   "id": "96578c4f-498a-4cc9-953f-d9cd4f69cc8f",
   "metadata": {},
   "outputs": [],
   "source": [
    "for row in county_data:\n",
    "    row['dataset'] = '1-year estimate'\n",
    "    row['geo_name'] = 'Santa Clara County'\n",
    "county_data"
   ]
  },
  {
   "cell_type": "markdown",
   "id": "b3c4b27b-1f4d-4700-9443-5925eaa51aea",
   "metadata": {},
   "source": [
    "Next, let's convert this to a dataframe and rename the columns so they are easier to read."
   ]
  },
  {
   "cell_type": "code",
   "execution_count": null,
   "id": "3db37abf-ed60-4bf8-b367-922262c8b4b9",
   "metadata": {},
   "outputs": [],
   "source": [
    "data = pd.DataFrame(county_data)\n",
    "#inplace modifies the dataframe in place, rather than returning a new dataframe\n",
    "data.rename(columns=fields, inplace=True) \n",
    "\n",
    "data"
   ]
  },
  {
   "cell_type": "markdown",
   "id": "6aa5954e-36d1-4ec6-8d74-0ed2161fc1b8",
   "metadata": {},
   "source": [
    "## Margin of error\n",
    "\n",
    "This section of the notebook replicates the information in the [README](./README.md#Margins-of-error).\n",
    "\n",
    "Margins of error tell us the reliability of data collected from surveys where sampling is used. The smaller the sample size, the larger the margin of error.\n",
    "\n",
    "Let's look at our median household income data again."
   ]
  },
  {
   "cell_type": "code",
   "execution_count": null,
   "id": "b2ebedf5-c177-46d5-a27f-d02a3ae547da",
   "metadata": {},
   "outputs": [],
   "source": [
    "data"
   ]
  },
  {
   "cell_type": "markdown",
   "id": "1fd843f3-5db7-4b77-88bc-0ede485e2620",
   "metadata": {},
   "source": [
    "We can say the true median household income is within \\\\$2,669 of the published estimate of $141,562. \n",
    "\n",
    "If we subtract the margin of error from the published estimate, we get the lower bound of what is known as the confidence interval."
   ]
  },
  {
   "cell_type": "code",
   "execution_count": null,
   "id": "f6cb6eba-003c-4cac-ae04-ffbc12599ebe",
   "metadata": {},
   "outputs": [],
   "source": [
    "data['lower_bound'] = data['median_hh_income'] - data['margin_of_error']\n",
    "data['lower_bound']"
   ]
  },
  {
   "cell_type": "markdown",
   "id": "24f19e3f-ebd1-409b-85f9-b3c21f7d3f46",
   "metadata": {},
   "source": [
    "Adding the margin of error to the estimate gives us the confidence interval's upper bound."
   ]
  },
  {
   "cell_type": "code",
   "execution_count": null,
   "id": "101003e2-a33b-416a-9fbc-5030e96dbac0",
   "metadata": {},
   "outputs": [],
   "source": [
    "data['upper_bound'] = data['median_hh_income'] + data['margin_of_error']\n",
    "data['upper_bound']"
   ]
  },
  {
   "cell_type": "markdown",
   "id": "56511795-9cfb-4823-9516-953e9fbb5986",
   "metadata": {},
   "source": [
    "The confidence interval is the range in which we can say with some degree of confidence the estimate's true value exists."
   ]
  },
  {
   "cell_type": "code",
   "execution_count": null,
   "id": "52c341a1-a3cc-4bf4-87d4-510dc6b761fc",
   "metadata": {},
   "outputs": [],
   "source": [
    "data[['median_hh_income', 'margin_of_error','lower_bound','upper_bound']]"
   ]
  },
  {
   "cell_type": "markdown",
   "id": "2b2e6d26-cb57-44df-bc76-062db85e5529",
   "metadata": {},
   "source": [
    "In this example, we can say with some degree of confidence that the true median household income is somewhere between \\$138,893 and \\\\$144,231. Just how much confidence? The Census Bureau publishes their estimates at the 90 percent confidence level. So we can say the following:\n",
    "> We are 90 percent confident the median household income for Santa Clara County is between \\\\$138,893 and \\$144,231.\n",
    "\n",
    "**IMPORTANT:** You should always keep an eye on the margin of error. Look for cases where the lower bound of the confidence interval is less than zero or no longer makes sense.\n",
    "\n",
    "We can reduce the margin of error and make our estimates more reliable by increasing the sample size. There are a couple of ways to do that with Census data.\n",
    "\n",
    "### Use a larger geography - adding state data\n",
    "\n",
    "The easiest way to increase sample size is to increase the size of the geography. In this case, let's add to the table the median household income for the state of California.\n",
    "\n",
    "The procedure to get state-level data is mostly the same as above, but we will use the Census client's `state` function rather than the `state_county` function."
   ]
  },
  {
   "cell_type": "code",
   "execution_count": null,
   "id": "e5fe65c8-87d8-48e6-84ff-2d00e277e61f",
   "metadata": {},
   "outputs": [],
   "source": [
    "state_data = client.acs1.state(field_codes, state_fips)\n",
    "state_data"
   ]
  },
  {
   "cell_type": "markdown",
   "id": "11f2e6dc-2d7b-4c7d-b721-14e86650c1ce",
   "metadata": {},
   "source": [
    "Let's add in the extra metadata:"
   ]
  },
  {
   "cell_type": "code",
   "execution_count": null,
   "id": "8b3347ca-1222-4396-aee0-9ab1350e7ea0",
   "metadata": {},
   "outputs": [],
   "source": [
    "for row in state_data:\n",
    "    row['dataset'] = '1-year estimate'\n",
    "    row['geo_name'] = 'State of California'\n",
    "state_data"
   ]
  },
  {
   "cell_type": "markdown",
   "id": "bfd34338-a166-4e90-bebc-d25ec7e8a369",
   "metadata": {},
   "source": [
    "Combine the state data with the county data from above:"
   ]
  },
  {
   "cell_type": "code",
   "execution_count": null,
   "id": "08fe5b44-01c8-4180-90b3-09491711c794",
   "metadata": {},
   "outputs": [],
   "source": [
    "combined = county_data + state_data\n",
    "combined"
   ]
  },
  {
   "cell_type": "code",
   "execution_count": null,
   "id": "8559585f-1794-48ea-8890-14aec2536263",
   "metadata": {},
   "outputs": [],
   "source": [
    "data = pd.DataFrame(combined)\n",
    "data.rename(columns=fields, inplace=True)\n",
    "data"
   ]
  },
  {
   "cell_type": "markdown",
   "id": "2ddd5972-c868-4679-aa9b-6354ddb83d90",
   "metadata": {},
   "source": [
    "Next let's calculate the bounds of our confidence intervals:"
   ]
  },
  {
   "cell_type": "code",
   "execution_count": null,
   "id": "121bdb00-241d-45bd-92ad-2302d292cadd",
   "metadata": {},
   "outputs": [],
   "source": [
    "data['lower_bound'] = data['median_hh_income'] - data['margin_of_error']\n",
    "data['upper_bound'] = data['median_hh_income'] + data['margin_of_error']\n",
    "\n",
    "data"
   ]
  },
  {
   "cell_type": "markdown",
   "id": "83ffe6c8-48ac-46b9-8aeb-4ee5cbcfc027",
   "metadata": {},
   "source": [
    "The margin of error is much lower at the state level, but not without cost. The state estimate also includes other counties, not just Santa Clara County. But the state estimate doesn't accurately reflect the county estimate. This can be problematic if the scope of the analysis needs to be at the county level.\n",
    "\n",
    "If the analysis focuses on small geographies such as census tracts, consider switching to a county-level analysis to increase the reliability of the data.\n",
    "\n",
    "### Use 5-year estimates\n",
    "Another way of increasing sample size is to use 5-year estimates. These estimates are based on survey responses collected over a 5-year period, so the sample size is significantly larger.\n",
    "\n",
    "Begin by getting the county-level 5-year estimates. We are going to use the `state_county` function just as we did above, but this time we will switch to the `acs5` client to get the correct data."
   ]
  },
  {
   "cell_type": "code",
   "execution_count": null,
   "id": "9812c711-0c83-4f8e-92af-2ec9ab6f8e23",
   "metadata": {},
   "outputs": [],
   "source": [
    "county_data_5yr = client.acs5.state_county(field_codes, state_fips, county_fips)\n",
    "county_data_5yr"
   ]
  },
  {
   "cell_type": "markdown",
   "id": "dc305acc-8319-466d-82e8-e76027ba3268",
   "metadata": {},
   "source": [
    "Again we will add some metadata, making sure to specify `5-year estimate` as the `dataset`."
   ]
  },
  {
   "cell_type": "code",
   "execution_count": null,
   "id": "156d9c71-bf1b-4c2f-af2c-be5bdad6b9e8",
   "metadata": {},
   "outputs": [],
   "source": [
    "for row in county_data_5yr:\n",
    "    row['dataset'] = '5-year estimate'\n",
    "    row['geo_name'] = 'Santa Clara County'\n",
    "county_data_5yr"
   ]
  },
  {
   "cell_type": "markdown",
   "id": "058ad061-013e-4ac1-9f2c-14660f82190a",
   "metadata": {},
   "source": [
    "Combine our data, load it into a dataframe, rename the columns and calculate the confidence interval:"
   ]
  },
  {
   "cell_type": "code",
   "execution_count": null,
   "id": "2375b62c-781b-4ec1-9585-ecacd7597752",
   "metadata": {},
   "outputs": [],
   "source": [
    "combined = county_data + county_data_5yr\n",
    "data = pd.DataFrame(combined)\n",
    "data.rename(columns=fields, inplace=True)\n",
    "\n",
    "data['lower_bound'] = data['median_hh_income'] - data['margin_of_error']\n",
    "data['upper_bound'] = data['median_hh_income'] + data['margin_of_error']\n",
    "\n",
    "data"
   ]
  },
  {
   "cell_type": "markdown",
   "id": "ff611e83-136b-4687-971f-d296ed9f0d18",
   "metadata": {},
   "source": [
    "### Visualizing confident intervals\n",
    "\n",
    "We can use Altair to visualize confidence intervals. Visualization is beyond the scope of this notebook, so we won't go too deep into how to create charts.\n",
    "\n",
    "#### Create the estimates chart\n",
    "\n",
    "We will use `mark_point` to create a point chart and set the horizontal (X) axis to the median household income. The vertical (Y) axis, will be the dataset."
   ]
  },
  {
   "cell_type": "code",
   "execution_count": null,
   "id": "66553b34-5d28-46da-8100-c1fefc630daf",
   "metadata": {},
   "outputs": [],
   "source": [
    "estimates = alt.Chart(\n",
    "    data\n",
    ").mark_point(\n",
    "    filled=True,\n",
    "    color='black'\n",
    ").encode(\n",
    "    alt.X('median_hh_income').scale(zero=False),\n",
    "    y='dataset'\n",
    ")\n",
    "estimates"
   ]
  },
  {
   "cell_type": "markdown",
   "id": "7ddd62df-f04b-4050-ac43-c50a96545058",
   "metadata": {},
   "source": [
    "To chart confidence intervales, we will use `mark_errorbar`. Note we specify two encodings for the X axis - one for the upper bound of the confidence interval and a second for the lower bound."
   ]
  },
  {
   "cell_type": "code",
   "execution_count": null,
   "id": "05abd6f7-73ca-4b55-8596-d73a648beb54",
   "metadata": {},
   "outputs": [],
   "source": [
    "confidence_intervals = alt.Chart(\n",
    "    data\n",
    ").mark_errorbar(\n",
    "    color='red'\n",
    ").encode(\n",
    "    alt.X('upper_bound').scale(zero=False),\n",
    "    alt.X2('lower_bound'),\n",
    "    y='dataset'\n",
    ")\n",
    "confidence_intervals"
   ]
  },
  {
   "cell_type": "markdown",
   "id": "639cc77f-043d-4e11-b49d-0cf710c3eea7",
   "metadata": {},
   "source": [
    "Next we can combine the two charts to create a composite. We also can adjust some properties of the chart such as height."
   ]
  },
  {
   "cell_type": "code",
   "execution_count": null,
   "id": "38e95485-4c0a-4479-8ee0-f5e2a3122fbf",
   "metadata": {},
   "outputs": [],
   "source": [
    "(estimates + confidence_intervals).properties(height=150)"
   ]
  },
  {
   "cell_type": "markdown",
   "id": "25e10d1e-1d1a-4308-baee-bbccf2b469d9",
   "metadata": {},
   "source": [
    "We can easily see the confidence interval is much smaller and the estimates look closer to each other. Most times we opt to use 5-year estimates.\n",
    "\n",
    "**IMPORTANT:**\n",
    "\n",
    "- Remember year-to-year analysis should not be done because 5-year estimates containing data from overlapping years.\n",
    "- Estimates at the tract level will still have high margins of error that need to be carefully considered when planning a methodology.\n",
    "\n",
    "### Avoid segmenting the population\n",
    "If possible, avoid segmenting the population into demographic subgroups. This can be difficult because we often want to look at things and consider other factors such as age, sex, race and/or ethnicity. \n",
    "\n",
    "However whenever we do so, the margin of error will most likely increase because the sample size is reduced.\n",
    "\n",
    "Let's download 5-year estimates of median household income for multi-racial households:"
   ]
  },
  {
   "cell_type": "code",
   "execution_count": null,
   "id": "53d6f0e1-d797-4da1-8e12-3c7dd04d7547",
   "metadata": {},
   "outputs": [],
   "source": [
    "multiracial_fields = {\n",
    "    'B19013G_001E': 'median_hh_income', #notice the slight change to table IDs\n",
    "    'B19013G_001M': 'margin_of_error',\n",
    "}\n",
    "multiracial_codes = list(multiracial_fields.keys())\n",
    "multiracial_data = client.acs5.state_county(multiracial_codes, state_fips, county_fips)\n",
    "multiracial_data"
   ]
  },
  {
   "cell_type": "markdown",
   "id": "f72fe65e-bd8f-41c3-950a-b92149eb5be5",
   "metadata": {},
   "source": [
    "Add metadata"
   ]
  },
  {
   "cell_type": "code",
   "execution_count": null,
   "id": "f6fa9e80-4f9a-47ca-a6a1-59dd0edec70a",
   "metadata": {},
   "outputs": [],
   "source": [
    "for row in multiracial_data:\n",
    "    row['dataset'] = '5-year estimate'\n",
    "    row['geo_name'] = 'Santa Clara County'\n",
    "multiracial_data"
   ]
  },
  {
   "cell_type": "markdown",
   "id": "2e6f89cc-c6cf-467d-bd2d-5973237cc984",
   "metadata": {},
   "source": [
    "We are going to take a slightly different approach when combining our data. Begin by prepping two dataframes, one for multiracial households and another for all households. We do this because the table IDs are slightly different between the two estimates. We are also going to add a column distinguishing the two different types of households - `all` and `multiracial`."
   ]
  },
  {
   "cell_type": "code",
   "execution_count": null,
   "id": "68b38bc6-f2c1-4a51-ae1b-3fe398799be5",
   "metadata": {},
   "outputs": [],
   "source": [
    "multiracial = pd.DataFrame(\n",
    "    multiracial_data\n",
    ").rename(\n",
    "    columns=multiracial_fields\n",
    ") # Notice we don't use inplace=True because we want something returned to the variable\n",
    "multiracial['household_type'] = 'multiracial'\n",
    "multiracial"
   ]
  },
  {
   "cell_type": "code",
   "execution_count": null,
   "id": "b6fbf381-5d13-4449-92d2-d1bc8d96ebc7",
   "metadata": {},
   "outputs": [],
   "source": [
    "all_hh = pd.DataFrame(\n",
    "    county_data_5yr\n",
    ").rename(\n",
    "    columns=fields\n",
    ")\n",
    "all_hh['household_type'] = 'all'\n",
    "all_hh"
   ]
  },
  {
   "cell_type": "markdown",
   "id": "2e3f3d6c-3943-4a50-8f91-132ac35765b6",
   "metadata": {},
   "source": [
    "Now we can combine the two sets of estimates using `pd.concat`"
   ]
  },
  {
   "cell_type": "code",
   "execution_count": null,
   "id": "f6b42650-3bd1-4a30-ac0b-a199190c82bf",
   "metadata": {},
   "outputs": [],
   "source": [
    "data = pd.concat([all_hh, multiracial])\n",
    "data"
   ]
  },
  {
   "cell_type": "markdown",
   "id": "371209c2-f89d-48a3-89a3-e2b55961647a",
   "metadata": {},
   "source": [
    "Ok great, now let's calculate the confidence intervals and visualize the results."
   ]
  },
  {
   "cell_type": "code",
   "execution_count": null,
   "id": "7c4472c4-fdc9-4f42-a85d-9bb7685918be",
   "metadata": {},
   "outputs": [],
   "source": [
    "data['lower_bound'] = data['median_hh_income'] - data['margin_of_error']\n",
    "data['upper_bound'] = data['median_hh_income'] + data['margin_of_error']\n",
    "\n",
    "estimates = alt.Chart(\n",
    "    data\n",
    ").mark_point(\n",
    "    filled=True,\n",
    "    color='black'\n",
    ").encode(\n",
    "    alt.X('median_hh_income').scale(zero=False),\n",
    "    y='household_type' # swith Y axis to `household_type`\n",
    ")\n",
    "\n",
    "confidence_intervals = alt.Chart(\n",
    "    data\n",
    ").mark_errorbar(\n",
    "    color='red'\n",
    ").encode(\n",
    "    alt.X('upper_bound').scale(zero=False),\n",
    "    alt.X2('lower_bound'),\n",
    "    y='household_type'\n",
    ")\n",
    "\n",
    "(estimates + confidence_intervals).properties(height=150)"
   ]
  },
  {
   "cell_type": "markdown",
   "id": "cbd3bfae-7fd6-430d-aa28-9b47f7132da2",
   "metadata": {},
   "source": [
    "We can easily see the confidence interval for multiracial households is much larger than that for all households. However, since they do not overlap, we can safely make the following statement:\n",
    "\n",
    "> Multi-racial households earn less than the county's median income.\n",
    "\n",
    "## Downloading multiple geographic areas\n",
    "\n",
    "Often we don't want to look at a single county or state. We can easily download all states in the nation, or counties in a state using a property of the Python Census library - `Census.ALL`. This is exactly the same as using `'*'` which is traditionally viewed as a character to represent wildcards.\n",
    "\n",
    "### Download all states"
   ]
  },
  {
   "cell_type": "code",
   "execution_count": null,
   "id": "58493e0b-e4d4-420b-9f61-aa4bb0e6a896",
   "metadata": {},
   "outputs": [],
   "source": [
    "raw = client.acs5.state(field_codes, Census.ALL)\n",
    "len(raw)"
   ]
  },
  {
   "cell_type": "code",
   "execution_count": null,
   "id": "41d6b00e-096d-4bb7-8ad5-91bbe6c1c58a",
   "metadata": {},
   "outputs": [],
   "source": [
    "data = pd.DataFrame(raw).rename(columns=fields)\n",
    "data.head()"
   ]
  },
  {
   "cell_type": "markdown",
   "id": "347d803a-058f-44dc-bb6c-6e4ab50429f3",
   "metadata": {},
   "source": [
    "We don't have state names with this data, only FIPS codes. We can easily use the crosswalk the Census Bureau provides. The crosswalk is a pipe-delimited text file we can load directly into Pandas without downloading."
   ]
  },
  {
   "cell_type": "code",
   "execution_count": null,
   "id": "002cd084-386a-4ed6-8e92-05532bdc6932",
   "metadata": {},
   "outputs": [],
   "source": [
    "state_fips_url = 'https://www2.census.gov/geo/docs/reference/codes2020/national_state2020.txt'\n",
    "# Notice we specified `|` for the delimiter\n",
    "# We are also going to set the data type of all columns as a string \n",
    "# to keep leading zeroes in identifiers\n",
    "state_codes = pd.read_csv(state_fips_url, delimiter='|', dtype=str) \n",
    "state_codes.head()"
   ]
  },
  {
   "cell_type": "markdown",
   "id": "69b0da89-d383-49ab-b6b9-52c9c99527ba",
   "metadata": {},
   "source": [
    "Let's merge these together."
   ]
  },
  {
   "cell_type": "code",
   "execution_count": null,
   "id": "18239024-9878-442b-acf6-be9087e8522d",
   "metadata": {},
   "outputs": [],
   "source": [
    "merged = data.merge(\n",
    "    state_codes,\n",
    "    how='left',\n",
    "    left_on='state',\n",
    "    right_on='STATEFP'\n",
    ")\n",
    "merged.head()"
   ]
  },
  {
   "cell_type": "markdown",
   "id": "127af45b-32f8-4b0d-9c59-cf1e12fca5a1",
   "metadata": {},
   "source": [
    "Great we can now write out our results to a file for later use."
   ]
  },
  {
   "cell_type": "code",
   "execution_count": 70,
   "id": "446756dc-b0e6-4790-b77b-a4d929a259c5",
   "metadata": {},
   "outputs": [],
   "source": [
    "merged.to_csv('./median_hh_income_states.csv', index=False)"
   ]
  },
  {
   "cell_type": "markdown",
   "id": "d0ab40ae-606a-4196-8041-a9e2d0bd2c13",
   "metadata": {},
   "source": [
    "### Download multiple counties\n",
    "\n",
    "The process is very similar to above, only we use the client's `state_county` method to get county-level data.\n",
    "\n",
    "#### For a single state"
   ]
  },
  {
   "cell_type": "code",
   "execution_count": null,
   "id": "e2a402fc-5403-4d83-b697-50641b4af4c5",
   "metadata": {},
   "outputs": [],
   "source": [
    "raw = client.acs5.state_county(field_codes, state_fips, Census.ALL)\n",
    "len(raw)"
   ]
  },
  {
   "cell_type": "markdown",
   "id": "5253862f-8fdb-4f63-902e-c19a07b91580",
   "metadata": {},
   "source": [
    "#### For all states"
   ]
  },
  {
   "cell_type": "code",
   "execution_count": null,
   "id": "99cd074a-130f-4369-a682-6b9555f6db6f",
   "metadata": {},
   "outputs": [],
   "source": [
    "raw = client.acs5.state_county(field_codes, Census.ALL, Census.ALL)\n",
    "len(raw)"
   ]
  },
  {
   "cell_type": "code",
   "execution_count": null,
   "id": "285ed38e-ed49-4255-b38e-942470dd9549",
   "metadata": {},
   "outputs": [],
   "source": [
    "data = pd.DataFrame(raw).rename(columns=fields)\n",
    "data"
   ]
  },
  {
   "cell_type": "markdown",
   "id": "efdcb2de-a713-4a02-8b3f-86be9e32a1c2",
   "metadata": {},
   "source": [
    "#### Add county names\n",
    "\n",
    "We can also use FIPS codes to add county and state names. We will use a different dataset this time that includes county FIPS codes."
   ]
  },
  {
   "cell_type": "code",
   "execution_count": null,
   "id": "58b1c903-6012-4727-be05-65e61f64e638",
   "metadata": {},
   "outputs": [],
   "source": [
    "county_fips_url = 'https://www2.census.gov/geo/docs/reference/codes2020/national_county2020.txt'\n",
    "county_codes = pd.read_csv(county_fips_url, delimiter='|', dtype=str)\n",
    "county_codes"
   ]
  },
  {
   "cell_type": "markdown",
   "id": "71a555eb-0992-44d0-81c9-68a1d3cabf9f",
   "metadata": {},
   "source": [
    "County FIPS codes are unique within a state, but not nationally. So we need to include both state and county FIPS codes when joining the data."
   ]
  },
  {
   "cell_type": "code",
   "execution_count": null,
   "id": "72f274d9-6538-4be5-9235-88828a32e82c",
   "metadata": {},
   "outputs": [],
   "source": [
    "data['geoid'] = data['state'] + data['county']\n",
    "data.head()"
   ]
  },
  {
   "cell_type": "code",
   "execution_count": null,
   "id": "859c7ddb-14c7-4cfe-8982-81bd41cd0df2",
   "metadata": {},
   "outputs": [],
   "source": [
    "county_codes['geoid'] = county_codes['STATEFP'] + county_codes['COUNTYFP']\n",
    "county_codes"
   ]
  },
  {
   "cell_type": "markdown",
   "id": "0a60a81c-179f-4014-93a7-17b2d696630f",
   "metadata": {},
   "source": [
    "Now we can join the two dataframes as we did above using the `geoid` columns we just created."
   ]
  },
  {
   "cell_type": "code",
   "execution_count": null,
   "id": "8ae50f9e-171d-4ee6-ad17-1a1a48ee5b63",
   "metadata": {},
   "outputs": [],
   "source": [
    "merged = data.merge(\n",
    "    county_codes,\n",
    "    how='left',\n",
    "    on='geoid'\n",
    ")\n",
    "merged.head()"
   ]
  },
  {
   "cell_type": "markdown",
   "id": "6cc0744c-4a72-492f-aed3-53dc1e4ce0bd",
   "metadata": {},
   "source": [
    "And once again write out our data:"
   ]
  },
  {
   "cell_type": "code",
   "execution_count": 78,
   "id": "eafa3fbe-7c72-41a5-9405-0be6f858529c",
   "metadata": {},
   "outputs": [],
   "source": [
    "merged.to_csv('./median_hh_income_counties.csv', index=False)"
   ]
  },
  {
   "cell_type": "code",
   "execution_count": null,
   "id": "074346c4-cb96-4a7c-ae5e-27e12334f6bf",
   "metadata": {},
   "outputs": [],
   "source": []
  }
 ],
 "metadata": {
  "kernelspec": {
   "display_name": ".venv",
   "language": "python",
   "name": "python3"
  },
  "language_info": {
   "codemirror_mode": {
    "name": "ipython",
    "version": 3
   },
   "file_extension": ".py",
   "mimetype": "text/x-python",
   "name": "python",
   "nbconvert_exporter": "python",
   "pygments_lexer": "ipython3",
   "version": "3.12.6"
  }
 },
 "nbformat": 4,
 "nbformat_minor": 5
}
